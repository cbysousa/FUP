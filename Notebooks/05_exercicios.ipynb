{
  "cells": [
    {
      "cell_type": "markdown",
      "metadata": {
        "id": "view-in-github",
        "colab_type": "text"
      },
      "source": [
        "<a href=\"https://colab.research.google.com/github/cbysousa/FUP/blob/main/Notebooks/05_exercicios.ipynb\" target=\"_parent\"><img src=\"https://colab.research.google.com/assets/colab-badge.svg\" alt=\"Open In Colab\"/></a>"
      ]
    },
    {
      "cell_type": "markdown",
      "metadata": {
        "id": "Xxl02n6lG7_W"
      },
      "source": [
        "# Exercícios sobre Estrutura Condicional\n",
        "\n",
        "> Antes de iniciar qualquer notebook, é importante que você limpe as saídas de todas as células para que você só veja o resultado de uma célula quando executá-la. Para isso, utilize o menu **Editar > Limpar todas as saídas**.\n",
        "\n",
        "## Requisitos\n",
        "\n",
        "Certifique-se de que você concluiu os seguintes notebooks:\n",
        "* [Introdução ao Python](01-intro.ipynb)\n",
        "* [Introdução à sintaxe de Python](02-sintaxe.ipynb)\n",
        "* [Strings, saída e entrada de dados e a biblioteca math](03-strings.ipynb)\n",
        "* [Exercícios sobre Estrutura Sequencial](04-exercicios.ipynb)\n",
        "* [Estrutura condicional](05-condicoes-fluxo-controle.ipynb)\n",
        "\n",
        "## Exercícios\n",
        "\n",
        "### Questão 1\n",
        "\n",
        "Faça um programa que receba dois números e mostre o maior deles.\n"
      ]
    },
    {
      "cell_type": "code",
      "execution_count": null,
      "metadata": {
        "collapsed": true,
        "id": "HM-UsCBVG7_X"
      },
      "outputs": [],
      "source": [
        "# Escreva o seu código aqui\n",
        "N1 = float(input(\"Digite o primeiro número \"))\n",
        "N2 = float(input(\"Digite o segundo número \"))\n",
        "if N1 > N2:\n",
        "   print(f\"O maior número entre eles é o {N1}\")\n",
        "elif N1 < N2:\n",
        "   print(f\"O maior número entre eles é o {N2}\")\n",
        "else: print(\"Os números são iguais\")"
      ]
    },
    {
      "cell_type": "markdown",
      "metadata": {
        "id": "FupU7jRbG7_X"
      },
      "source": [
        "### Questão 2\n",
        "\n",
        "Modifique o programa da célula abaixo, de modo que se a média for maior ou igual a 4 e menor que 7, diga que o aluno está de AF e peça a nota da AF, calcule a nova média e mostre o resultado do aluno (aprovado, para média maior ou igual a 5, ou reprovado caso contrário)."
      ]
    },
    {
      "cell_type": "code",
      "execution_count": null,
      "metadata": {
        "collapsed": true,
        "id": "l1q6FR5AG7_X"
      },
      "outputs": [],
      "source": [
        "n1 = float(input(\"Entre com a nota 1:\"))\n",
        "n2 = float(input(\"Entre com a nota 2:\"))\n",
        "media = (n1 + n2)/2\n",
        "print(\"A média é:\", media)\n",
        "if media >= 7:\n",
        "    print(\"Aprovado\", media)\n",
        "elif 7 > media >=4:\n",
        "   print(\"Você está de AF\")\n",
        "   AF = float(input(\"Digite a nota da AF \"))\n",
        "   maf = (AF + media)/2\n",
        "   if maf >= 5:\n",
        "    print(f\"Aprovado {maf}\")\n",
        "else:\n",
        "    print(\"Reprovado\", media)"
      ]
    },
    {
      "cell_type": "markdown",
      "metadata": {
        "id": "U5oc0PI1G7_X"
      },
      "source": [
        "### Questão 3\n",
        "\n",
        "Faça um programa que receba as três notas, calcule e mostre a média ponderada e o conceito que segue a tabela:\n",
        "\n",
        "|           Nota          | Peso |\n",
        "|:-----------------------:|:----:|\n",
        "| Trabalho de laboratório |   2  |\n",
        "|   Avaliação semestral   |   3  |\n",
        "|       Exame Final       |   5  |\n",
        "\n",
        "A nota final de um estudante é calculada a partir de três notas atribuídas e os respectivos pesos conforme a tabela abaixo:\n",
        "\n",
        "|      Média Ponderada    | Conceito |\n",
        "|-------------------------|:--------:|\n",
        "|$8.0\\bullet-\\bullet10.0$ |     A    |\n",
        "|$7.0\\bullet-\\circ8.0$    |     B    |\n",
        "|$6.0\\bullet-\\circ7.0$    |     C    |\n",
        "|$5.0\\bullet-\\circ6.0$    |     D    |\n",
        "|$0.0\\bullet-\\circ5.0$    |     E    |\n"
      ]
    },
    {
      "cell_type": "code",
      "execution_count": null,
      "metadata": {
        "collapsed": true,
        "id": "E-p1FmG4G7_X"
      },
      "outputs": [],
      "source": [
        "# Escreva o seu código aqui\n",
        "N1 = float(input(\"Digite a nota do Trabalho de Laboratório: \"))\n",
        "N2 = float(input(\"Digite a nota da Avaliação Semestral: \"))\n",
        "N3 = float(input(\"Digite a nota do Exame Final: \"))\n",
        "\n",
        "PN1 = 2\n",
        "PN2 = 3\n",
        "PN3 = 5\n",
        "SDP = PN1 + PN2 + PN3\n",
        "\n",
        "M = (N1*PN1 + N2*PN2 + N3*PN3) / SDP\n",
        "\n",
        "if 8 <= M >=10:\n",
        "   print(f\"Média {M}, Conceito A\")\n",
        "elif 7 <= M >8:\n",
        "   print(f\"Média {M}, Conceito B\")\n",
        "elif 6 <= M >7:\n",
        "   print(f\"Média {M}, Conceito C\")\n",
        "elif 5 <= M >6:\n",
        "   print(f\"Média {M}, Conceito D\")\n",
        "else:\n",
        "   print(f\"Média {M}, Conceito E\")"
      ]
    },
    {
      "cell_type": "markdown",
      "metadata": {
        "id": "TyFE7eJfG7_Y"
      },
      "source": [
        "### Questão 4\n",
        "Na céĺula abaixo, faça um programa que receba três números e mostre-os em ordem crescente. Suponha que o usuário irá digitar três números diferentes."
      ]
    },
    {
      "cell_type": "code",
      "execution_count": null,
      "metadata": {
        "collapsed": true,
        "id": "uJPlkvMQG7_Y"
      },
      "outputs": [],
      "source": [
        "# Escreva o seu código aqui\n",
        "n1 = float(input(\"Insira o primeiro número \"))\n",
        "n2 = float(input(\"Insira o segundo número \"))\n",
        "n3 = float(input(\"Insira o terceiro número \"))\n",
        "\n",
        "if n1 < n2 < n3:\n",
        "   print(f\"{n1}, {n2}, {n3}\")\n",
        "elif n2 < n1 < n3:\n",
        "   print(f\"{n2}, {n1}, {n3}\")\n",
        "elif n3 < n2 < n1:\n",
        "   print(f\"{n3}, {n2}, {n1}\")\n",
        "elif n1 < n3 < n2:\n",
        "   print(f\"{n1}, {n3}, {n2}\")\n",
        "elif n2 < n3 < n1:\n",
        "   print(f\"{n2}, {n3}, {n1}\")\n",
        "elif n3 < n1 < n2:\n",
        "   print(f\"{n3}, {n1}, {n2}\")"
      ]
    },
    {
      "cell_type": "markdown",
      "metadata": {
        "id": "oBIYmqXfG7_Y"
      },
      "source": [
        "# Questão 5\n",
        "Na célula abaixo, peça um número inteiro para o usuário. Diga se ele é par ou ímpar."
      ]
    },
    {
      "cell_type": "code",
      "execution_count": null,
      "metadata": {
        "collapsed": true,
        "id": "r1FflmWNG7_Y"
      },
      "outputs": [],
      "source": [
        "# Escreva o seu código aqui\n",
        "n = int(input(\"Digite um número \"))\n",
        "if n % 2 == 0:\n",
        "  print(f\"{n} é par \")\n",
        "else: print(f\"{n} é impar\")"
      ]
    },
    {
      "cell_type": "markdown",
      "metadata": {
        "id": "qccLVNz4G7_Y"
      },
      "source": [
        "### Questão 6\n",
        "Na célula abaixo, escreva um programa que pede para o usuário entrar com um ano. Diga se o ano é bissexto ou não.\n",
        "\n",
        "Por exemplo:\n",
        "```\n",
        "Digite o ano: 2016\n",
        "2016 é bissexto.\n",
        "```\n",
        "\n",
        "Outro exemplo:\n",
        "\n",
        "```\n",
        "Digite o ano: 2002\n",
        "2002 não é bissexto.\n",
        "```\n",
        "\n",
        "> **Observação: O ano bissexto ocorre a cada quatro anos (exceto anos múltiplos de 100 que não são múltiplos de 400).**"
      ]
    },
    {
      "cell_type": "code",
      "execution_count": null,
      "metadata": {
        "collapsed": true,
        "id": "0RqOFkXUG7_Y"
      },
      "outputs": [],
      "source": [
        "# Escreva o seu código aqui\n",
        "a = int(input(\"Digite um ano: \"))\n",
        "if a % 4 == 0 and (a % 400 == 0 and a % 100 != 0):\n",
        "  print(\"O ano é bissexto\")\n",
        "else:\n",
        "  print(\"O ano não é bissexto\")"
      ]
    },
    {
      "cell_type": "markdown",
      "metadata": {
        "id": "4mLUJleTG7_Y"
      },
      "source": [
        "### Questão 7\n",
        "Na célula abaixo, escreva um programa que pede para o usuário entrar com uma letra representando um nucleotídeo (A, C, T ou G) e mostre o complemento dele. O seu programa deve aceitar maiúsculas ou minúsculas. Se o usuário entrar com uma letra inválida, mostre uma mensagem de erro. **Nota**! Considerando as propriedades do DNA, A pode apenas fazer par com T, e G pode apenas fazer par com C."
      ]
    },
    {
      "cell_type": "code",
      "execution_count": null,
      "metadata": {
        "collapsed": true,
        "id": "CyWsjK80G7_Y",
        "colab": {
          "base_uri": "https://localhost:8080/"
        },
        "outputId": "94a1f885-00e3-47dd-acad-50bea41257ee"
      },
      "outputs": [
        {
          "output_type": "stream",
          "name": "stdout",
          "text": [
            "Entre como uma letra representando um nucleotídeo (A, C, T ou G) H\n",
            "A letra digitada não representa um nucleotídio\n"
          ]
        }
      ],
      "source": [
        "# Escreva o seu código aqui\n",
        "l = input(\"Entre como uma letra representando um nucleotídeo (A, C, T ou G): \")\n",
        "if l == \"A\":\n",
        "  print(\"T faz par com A\")\n",
        "elif l == \"T\":\n",
        "  print(\"A faz par com T\")\n",
        "elif l == \"G\":\n",
        "  print(\"G faz par com C\")\n",
        "elif l == \"C\":\n",
        "  print(\"C faz par com G\")\n",
        "else: print(\"A letra digitada não representa um nucleotídio\")"
      ]
    },
    {
      "cell_type": "markdown",
      "metadata": {
        "id": "nsgvhi1PG7_Y"
      },
      "source": [
        "Ao terminar, você já pode ir para o próximo notebook: [Estrutura de Repetição while](07-while.ipynb)."
      ]
    }
  ],
  "metadata": {
    "kernelspec": {
      "display_name": "Python 3",
      "language": "python",
      "name": "python3"
    },
    "language_info": {
      "codemirror_mode": {
        "name": "ipython",
        "version": 3
      },
      "file_extension": ".py",
      "mimetype": "text/x-python",
      "name": "python",
      "nbconvert_exporter": "python",
      "pygments_lexer": "ipython3",
      "version": "3.5.2"
    },
    "colab": {
      "provenance": [],
      "include_colab_link": true
    }
  },
  "nbformat": 4,
  "nbformat_minor": 0
}