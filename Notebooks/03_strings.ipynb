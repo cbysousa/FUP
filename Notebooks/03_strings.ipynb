{
  "cells": [
    {
      "cell_type": "markdown",
      "metadata": {
        "id": "view-in-github",
        "colab_type": "text"
      },
      "source": [
        "<a href=\"https://colab.research.google.com/github/cbysousa/FUP/blob/main/Notebooks/03_strings.ipynb\" target=\"_parent\"><img src=\"https://colab.research.google.com/assets/colab-badge.svg\" alt=\"Open In Colab\"/></a>"
      ]
    },
    {
      "cell_type": "markdown",
      "metadata": {
        "id": "YvVPnWLyp_L0"
      },
      "source": [
        "# Strings e saída de dados\n",
        "\n",
        "> Antes de iniciar qualquer notebook, é importante que você limpe as saídas de todas as células para que você só veja o resultado de uma célula quando executá-la. Para isso, utilize o menu **Editar > Limpar todas as saídas**.\n",
        "\n",
        "Outro tipo de dado muito útil é a **string**. Uma string pode conter letras, números e símbolos, mas será sempre interpretada como texto.\n",
        "\n",
        "Veja os exemplos:"
      ]
    },
    {
      "cell_type": "code",
      "execution_count": null,
      "metadata": {
        "collapsed": true,
        "id": "zRy7JYN0p_L1"
      },
      "outputs": [],
      "source": [
        "nome = \"Paula\"\n",
        "idade = \"22\"\n",
        "comida = \"batata frita\""
      ]
    },
    {
      "cell_type": "markdown",
      "metadata": {
        "id": "VHJWmrQ8p_L2"
      },
      "source": [
        "Na célula acima, nós criamos uma variável nome e lhe atribuímos o valor string \"Paula\".\n",
        "Nós também atribuímos \"22\" à variável idade e comida recebeu o valor \"batata frita\".\n",
        "\n",
        "Veja que strings precisam vir entre aspas, elas podem ser duplas ou simples. O importante é usar o mesmo tipo de aspas no início e no final da string.\n",
        "\n",
        "Na linha 1 da célula abaixo, crie uma nova variável chamada ```chaves``` que recebe a string ```\"Que puxa!\"```."
      ]
    },
    {
      "cell_type": "code",
      "execution_count": null,
      "metadata": {
        "collapsed": true,
        "id": "wKjc-uSep_L2",
        "colab": {
          "base_uri": "https://localhost:8080/"
        },
        "outputId": "3463b850-d33f-42fc-8bc4-ac124e25cf1e"
      },
      "outputs": [
        {
          "output_type": "stream",
          "name": "stdout",
          "text": [
            "Que puxa!\n"
          ]
        }
      ],
      "source": [
        "chaves = \"Que puxa!\"\n",
        "print(chaves)"
      ]
    },
    {
      "cell_type": "markdown",
      "metadata": {
        "id": "7Xc2dulvp_L2"
      },
      "source": [
        "Vejamos mais alguns exercícios com strings.\n",
        "\n",
        "Crie as seguintes variáveis com as suas respectivas strings:\n",
        "\n",
        "1. ```esporte``` igual a ```\"Basquete\"```\n",
        "2. ```jogador``` igual a ```\"Oscar\"```\n",
        "3. ```lugar``` igual a ```\"quadra\"```\n"
      ]
    },
    {
      "cell_type": "code",
      "execution_count": null,
      "metadata": {
        "collapsed": true,
        "id": "ziSPXIgqp_L2",
        "colab": {
          "base_uri": "https://localhost:8080/"
        },
        "outputId": "fe21f0c0-064a-4768-97a1-c245fd81ffb4"
      },
      "outputs": [
        {
          "output_type": "stream",
          "name": "stdout",
          "text": [
            "Basquete\n",
            "Oscar\n",
            "quadra\n"
          ]
        }
      ],
      "source": [
        "# Crie as suas variáveis no espaço abaixo, cada uma na sua própria linha\n",
        "esporte = \"Basquete\"\n",
        "jogador = \"Oscar\"\n",
        "lugar = \"quadra\"\n",
        "# Escreva suas variáveis acima dessa linha\n",
        "print(esporte)\n",
        "print(jogador)\n",
        "print(lugar)"
      ]
    },
    {
      "cell_type": "markdown",
      "metadata": {
        "id": "ea0UUE-Dp_L2"
      },
      "source": [
        "## Usando aspas dentro da string\n",
        "\n",
        "E se quisermos mostrar a aspa dupla dentro da string o que acontece?\n",
        "\n",
        "Tente executar a célula abaixo. Você verá que ela irá causar um erro.\n"
      ]
    },
    {
      "cell_type": "code",
      "execution_count": null,
      "metadata": {
        "collapsed": true,
        "id": "9oVvygGqp_L2",
        "colab": {
          "base_uri": "https://localhost:8080/",
          "height": 108
        },
        "outputId": "9c00b278-9d85-4357-87c3-8570398b99f3"
      },
      "outputs": [
        {
          "output_type": "error",
          "ename": "SyntaxError",
          "evalue": "invalid syntax (<ipython-input-3-83f3ae03ec06>, line 1)",
          "traceback": [
            "\u001b[0;36m  File \u001b[0;32m\"<ipython-input-3-83f3ae03ec06>\"\u001b[0;36m, line \u001b[0;32m1\u001b[0m\n\u001b[0;31m    frase = \"O Chaves disse \"Que puxa!\"\"\u001b[0m\n\u001b[0m                             ^\u001b[0m\n\u001b[0;31mSyntaxError\u001b[0m\u001b[0;31m:\u001b[0m invalid syntax\n"
          ]
        }
      ],
      "source": [
        "frase = \"O Chaves disse \"Que puxa!\"\"\n",
        "print(frase)"
      ]
    },
    {
      "cell_type": "markdown",
      "metadata": {
        "id": "BPW9aEJFp_L2"
      },
      "source": [
        "Ocorre erro nesse código porque o Python pensa que as aspas duplas que aparecem logo depois de disse finaliza a string. Nós usamos a barra invertida para corrigir o problema:\n"
      ]
    },
    {
      "cell_type": "code",
      "execution_count": null,
      "metadata": {
        "collapsed": true,
        "id": "lPpaht9Rp_L2",
        "colab": {
          "base_uri": "https://localhost:8080/"
        },
        "outputId": "0335a6a5-152f-4bd2-fea2-2aa16cb88206"
      },
      "outputs": [
        {
          "output_type": "stream",
          "name": "stdout",
          "text": [
            "O Chaves disse \"Que puxa!\"\n"
          ]
        }
      ],
      "source": [
        "frase = \"O Chaves disse \\\"Que puxa!\\\"\"\n",
        "print(frase)"
      ]
    },
    {
      "cell_type": "markdown",
      "metadata": {
        "id": "PQDMhwEAp_L2"
      },
      "source": [
        "Outra maneira é usar outro tipo de aspas para delimitar a string e assim não é necessário usar a barra invertida. Veja o exemplo abaixo:"
      ]
    },
    {
      "cell_type": "code",
      "execution_count": null,
      "metadata": {
        "collapsed": true,
        "id": "QSbAczWep_L3"
      },
      "outputs": [],
      "source": [
        "frase = 'O Chaves disse: \"Que puxa!\"'\n",
        "print(frase)"
      ]
    },
    {
      "cell_type": "markdown",
      "metadata": {
        "id": "jAU0k9Szp_L3"
      },
      "source": [
        "Conserte o erro na célula abaixo e depois execute-a (Shift+Enter):"
      ]
    },
    {
      "cell_type": "code",
      "execution_count": null,
      "metadata": {
        "collapsed": true,
        "id": "OViQ1Ltkp_L3",
        "colab": {
          "base_uri": "https://localhost:8080/"
        },
        "outputId": "1f3158ba-f902-4173-c4e6-c87de28d3909"
      },
      "outputs": [
        {
          "output_type": "stream",
          "name": "stdout",
          "text": [
            "Depois o Chaves reclamou: \"Comigo ninguém tem paciência!\"\n"
          ]
        }
      ],
      "source": [
        "frase = 'Depois o Chaves reclamou: \"Comigo ninguém tem paciência!\"'\n",
        "print(frase)"
      ]
    },
    {
      "cell_type": "markdown",
      "metadata": {
        "id": "FLeAhG-Zp_L3"
      },
      "source": [
        "## Métodos de strings\n",
        "\n",
        "Agora que sabemos como armazenar strings, vamos ver como podemos modificá-las usando **métodos de strings**.\n",
        "\n",
        "Métodos (também chamados de funções) de strings permitem que você execute tarefas específicas para strings.\n",
        "\n",
        "Nós focaremos em quatro métodos:\n",
        "\n",
        "```\n",
        "len()\n",
        "lower()\n",
        "upper()\n",
        "str()\n",
        "```\n",
        "\n",
        "### len()\n",
        "Vamos começar com ```len()```, o qual obtém o tamanho (o número de caracteres) de uma string.\n",
        "\n",
        "Na célula abaixo, faça o seguinte:\n",
        "1. Na primeira linha, crie uma variável chamada ```cachorro``` e lhe atribua a string ```\"Pastor Alemão\"```.\n",
        "2. Na segunda linha, digite ```len(cachorro)``` dentro dos parênteses do comando print, de forma que fique ```print(len(cachorro))```. Ao executar a célula será mostrado o número de letras em ```\"Pastor Alemão\"```, incluindo o espaço."
      ]
    },
    {
      "cell_type": "code",
      "execution_count": null,
      "metadata": {
        "collapsed": true,
        "id": "eda7hLukp_L3",
        "colab": {
          "base_uri": "https://localhost:8080/"
        },
        "outputId": "9b4e5258-edbf-4d7c-9ba8-019700eb9faf"
      },
      "outputs": [
        {
          "output_type": "stream",
          "name": "stdout",
          "text": [
            "13\n"
          ]
        }
      ],
      "source": [
        "cachorro = 'Pastor Alemão'\n",
        "print(len(cachorro))"
      ]
    },
    {
      "cell_type": "markdown",
      "metadata": {
        "id": "g7C4Vh6pp_L3"
      },
      "source": [
        "### lower()\n",
        "\n",
        "Você pode usar o método ```lower()``` para converter a string para caracteres minúsculos. Você chama ```lower()``` da seguinte maneira:"
      ]
    },
    {
      "cell_type": "code",
      "execution_count": null,
      "metadata": {
        "collapsed": true,
        "id": "VI_EJejup_L3",
        "colab": {
          "base_uri": "https://localhost:8080/",
          "height": 35
        },
        "outputId": "d7912334-5952-48e2-b6de-88270855cac4"
      },
      "outputs": [
        {
          "output_type": "execute_result",
          "data": {
            "text/plain": [
              "'oscar'"
            ],
            "application/vnd.google.colaboratory.intrinsic+json": {
              "type": "string"
            }
          },
          "metadata": {},
          "execution_count": 8
        }
      ],
      "source": [
        "\"Oscar\".lower()"
      ]
    },
    {
      "cell_type": "markdown",
      "metadata": {
        "id": "SBrh836xp_L3"
      },
      "source": [
        "Que retornará ```'oscar'```.\n",
        "\n",
        "Nós podemos chamar o método diretamente em variáveis do tipo string:\n"
      ]
    },
    {
      "cell_type": "code",
      "execution_count": null,
      "metadata": {
        "collapsed": true,
        "id": "AYzEJCiPp_L3",
        "colab": {
          "base_uri": "https://localhost:8080/"
        },
        "outputId": "71a0883c-77dc-417e-a389-8417e2293811"
      },
      "outputs": [
        {
          "output_type": "stream",
          "name": "stdout",
          "text": [
            "oscar\n"
          ]
        }
      ],
      "source": [
        "jogador = \"Oscar\"\n",
        "print(jogador.lower())"
      ]
    },
    {
      "cell_type": "markdown",
      "metadata": {
        "id": "AO6YFiZYp_L3"
      },
      "source": [
        "> Observação: Nós usamos com frequência a expressão **chamar um método** ou **invocar um método**.\n",
        "\n",
        "Na linha abaixo, mostre a raça do cachorro somente em letras minúsculas, chamando o método ```lower()```:"
      ]
    },
    {
      "cell_type": "code",
      "execution_count": null,
      "metadata": {
        "collapsed": true,
        "id": "j8rhLrJpp_L3",
        "colab": {
          "base_uri": "https://localhost:8080/"
        },
        "outputId": "8548ab24-ca72-4131-87d6-6cbc110df13f"
      },
      "outputs": [
        {
          "output_type": "stream",
          "name": "stdout",
          "text": [
            "pastor alemão\n"
          ]
        }
      ],
      "source": [
        "cachorro = \"Pastor Alemão\"\n",
        "print(cachorro.lower())"
      ]
    },
    {
      "cell_type": "markdown",
      "metadata": {
        "id": "X5oaIKPEp_L3"
      },
      "source": [
        "### upper()\n",
        "\n",
        "Um método similar chamado ```upper()``` existe para converter as letras de uma string para maiúsculas.\n",
        "\n",
        "Na linha abaixo use upper(), para mostrar a raça do cachorro toda em maiúsculas:\n"
      ]
    },
    {
      "cell_type": "code",
      "execution_count": null,
      "metadata": {
        "collapsed": true,
        "id": "zeNEC2Q8p_L3",
        "colab": {
          "base_uri": "https://localhost:8080/"
        },
        "outputId": "edb8e6d3-49cb-4557-8550-ed86c3ec92e6"
      },
      "outputs": [
        {
          "output_type": "stream",
          "name": "stdout",
          "text": [
            "PASTOR ALEMÃO\n"
          ]
        }
      ],
      "source": [
        "cachorro = \"pastor alemão\"\n",
        "print(cachorro.upper())"
      ]
    },
    {
      "cell_type": "markdown",
      "metadata": {
        "id": "c5LrNW4-p_L3"
      },
      "source": [
        "## str()\n",
        "\n",
        "Agora vejamos o que ```str()``` faz. O método ```str()``` transforma qualquer tipo de dado em strings. Por exemplo:"
      ]
    },
    {
      "cell_type": "code",
      "execution_count": null,
      "metadata": {
        "collapsed": true,
        "id": "Zs8V1cctp_L3"
      },
      "outputs": [],
      "source": [
        "str(2)"
      ]
    },
    {
      "cell_type": "markdown",
      "metadata": {
        "id": "E-dAF79wp_L3"
      },
      "source": [
        "Na célula acima, ```str(2)``` tranformou 2 em \"2\".\n",
        "\n",
        "Agora tente você:\n",
        "\n",
        "Na célula abaixo, crie uma variável ```pi``` e lhe atribua o valor 3.14\n",
        "\n",
        "Chame ```str(pi)``` dentro dos parênteses do ```print```.\n"
      ]
    },
    {
      "cell_type": "code",
      "execution_count": null,
      "metadata": {
        "collapsed": true,
        "id": "ZOqipI77p_L3",
        "colab": {
          "base_uri": "https://localhost:8080/"
        },
        "outputId": "827428e4-6356-42ba-ee5b-feae3fe57785"
      },
      "outputs": [
        {
          "output_type": "stream",
          "name": "stdout",
          "text": [
            "3.14\n"
          ]
        }
      ],
      "source": [
        "pi = 3.14\n",
        "print(str(pi))"
      ]
    },
    {
      "cell_type": "markdown",
      "metadata": {
        "id": "jzX8EWiGp_L4"
      },
      "source": [
        "## Notação de Ponto\n",
        "\n",
        "Agora vamos analisar porque usamos len(string) e str(objeto), mas usamos a notação de ponto (como em \"Oscar\".upper()) para o resto."
      ]
    },
    {
      "cell_type": "code",
      "execution_count": null,
      "metadata": {
        "collapsed": true,
        "id": "Gwq0gmjrp_L4",
        "colab": {
          "base_uri": "https://localhost:8080/",
          "height": 35
        },
        "outputId": "80fdb197-8379-4a7d-bc42-b2434868a8a4"
      },
      "outputs": [
        {
          "output_type": "execute_result",
          "data": {
            "text/plain": [
              "'AUAUAUAU'"
            ],
            "application/vnd.google.colaboratory.intrinsic+json": {
              "type": "string"
            }
          },
          "metadata": {},
          "execution_count": 14
        }
      ],
      "source": [
        "cachorro = \"auauauau\"\n",
        "len(cachorro)\n",
        "cachorro.upper()"
      ]
    },
    {
      "cell_type": "markdown",
      "metadata": {
        "id": "jydUYSy2p_L4"
      },
      "source": [
        "Métodos que usam a notação de ponto só funcionam com strings. O tipo da variável antes do \".\" precisa ser string.\n",
        "\n",
        "Por outro lado, ```len()``` e ```str()``` funcionam com outros tipos de dados.\n",
        "\n",
        "Na célula abaixo, no primeiro print, mostre o número de caracteres em instituto, ou seja, use a função ```len()```.\n",
        "No segundo print, mostre o valor de instituto usando a função ```upper()```.\n"
      ]
    },
    {
      "cell_type": "code",
      "execution_count": null,
      "metadata": {
        "collapsed": true,
        "id": "gUqoh3kVp_L4",
        "colab": {
          "base_uri": "https://localhost:8080/"
        },
        "outputId": "55008773-4675-4aca-bdfe-62fe75577870"
      },
      "outputs": [
        {
          "output_type": "stream",
          "name": "stdout",
          "text": [
            "48\n",
            "INSTITUTO UNIVERSAL PARA OS APRENDIZES DE PYTHON\n"
          ]
        }
      ],
      "source": [
        "instituto = \"Instituto Universal para os Aprendizes de Python\"\n",
        "print(len(instituto))\n",
        "print(instituto.upper())"
      ]
    },
    {
      "cell_type": "markdown",
      "metadata": {
        "id": "S68Ca_9qp_L4"
      },
      "source": [
        "## Saída de dados com print()\n",
        "\n",
        "O comando print simplesmente mostra caracteres na tela. Se estivéssemos trabalhando com um editor e o interpretador Python instalado localmente, veríamos o resultado do comando print no terminal, também chamado de console.\n",
        "\n",
        "Na célula abaixo, use o comando ```print()``` para mostrar ```\"Estou aprendendo Python\"``` na tela. Você não precisa criar uma variável para isso, use o comando ```print()``` diretamente com a string. Não se esqueça dos parênteses."
      ]
    },
    {
      "cell_type": "code",
      "execution_count": null,
      "metadata": {
        "collapsed": true,
        "id": "BQiv6H3Rp_L4"
      },
      "outputs": [],
      "source": [
        "print(\"Estou aprendendo Python\")"
      ]
    },
    {
      "cell_type": "markdown",
      "metadata": {
        "id": "41nWV5Tmp_L4"
      },
      "source": [
        "Você já sabe como mostrar strings. Agora vamos usar variáveis no comando print().\n",
        "\n",
        "Na célula abaixo, crie uma variável chamada ```o_computador_disse``` e lhe atribua o valor \"Ping!\"\n",
        "Depois mostre o valor de ```o_computador_disse``` usando ```print()``` na linha seguinte."
      ]
    },
    {
      "cell_type": "code",
      "execution_count": null,
      "metadata": {
        "collapsed": true,
        "id": "a9yfa9Ppp_L4"
      },
      "outputs": [],
      "source": [
        "o_computador_disse = \"Ping!\"\n",
        "print(o_computador_disse)"
      ]
    },
    {
      "cell_type": "markdown",
      "metadata": {
        "id": "ADJY05Yup_L4"
      },
      "source": [
        "No comando print(), também podemos mostrar múltiplas variáveis separadas por vírgula:\n"
      ]
    },
    {
      "cell_type": "code",
      "execution_count": null,
      "metadata": {
        "collapsed": true,
        "id": "o2vdJ--dp_L4"
      },
      "outputs": [],
      "source": [
        "esporte = \"Futebol\"\n",
        "jogador = \"Pelé\"\n",
        "print(esporte, jogador)"
      ]
    },
    {
      "cell_type": "markdown",
      "metadata": {
        "id": "HlakTKRAp_L4"
      },
      "source": [
        "Veja que o Python já separou as strings com espaços automaticamente.\n",
        "\n",
        "## Formatação de strings com %\n",
        "\n",
        "Quando você quiser mostrar uma variável dentro de uma frase, existe uma maneira melhor de fazer isso.\n"
      ]
    },
    {
      "cell_type": "code",
      "execution_count": null,
      "metadata": {
        "collapsed": true,
        "id": "grWM0z-Up_L4"
      },
      "outputs": [],
      "source": [
        "nome = \"Oscar\"\n",
        "print(\"Olá, %s. Tudo bem?\" % (nome))"
      ]
    },
    {
      "cell_type": "markdown",
      "metadata": {
        "id": "BeEvOfwRp_L4"
      },
      "source": [
        "O operador ```%```, quando usado depois de uma string, irá substituir o ```%s``` dentro da string com a variável que vem em parênteses depois dele.\n",
        "\n",
        "Dê uma olhada no código da célula abaixo. Ao executá-la, o que você acha que será mostrado. Só execute a célula depois que achar que sabe."
      ]
    },
    {
      "cell_type": "code",
      "execution_count": null,
      "metadata": {
        "collapsed": true,
        "id": "369NxfBHp_L4"
      },
      "outputs": [],
      "source": [
        "string_1 = \"Paris\"\n",
        "string_2 = \"cidade\"\n",
        "\n",
        "print(\"E foram todos para %s, a %s-luz.\" % (string_1, string_2))"
      ]
    },
    {
      "cell_type": "markdown",
      "metadata": {
        "id": "N6EDW9uep_L4"
      },
      "source": [
        "Veja que você o número de elementos ```%s``` dentro da string deve ser igual ao número de termos entre parênteses.\n",
        "\n",
        "Outra tipo de formatação útil é quando queremos mostrar um determinado número de casas decimais. Por exemplo, sempre que mostrarmos algum valor monetário, o ideal é mostrar apenas duas casas decimais. Por exemplo:"
      ]
    },
    {
      "cell_type": "code",
      "execution_count": null,
      "metadata": {
        "id": "CCFql8tcp_L5",
        "outputId": "a6732b5c-841d-4c7e-ea58-68d9850e6bba"
      },
      "outputs": [
        {
          "name": "stdout",
          "output_type": "stream",
          "text": [
            "O total da compra é R$1000.00 e cada parcela é R$166.67\n"
          ]
        }
      ],
      "source": [
        "total = 1000\n",
        "parcela = 1000/6\n",
        "print(\"O total da compra é R$%.2f e cada parcela é R$%.2f\" % (total, parcela))"
      ]
    },
    {
      "cell_type": "markdown",
      "metadata": {
        "id": "OL07cvANp_L5"
      },
      "source": [
        "No comando acima usamos o ```%.2f``` para dizer que vamos arredondar um float em **duas** casas decimais.\n",
        "\n",
        "Na célula abaixo, crie uma variável que vai receber o valor da raiz quadrada de dois. Mostre o valor arredondado para **quatro** casas decimais.\n"
      ]
    },
    {
      "cell_type": "code",
      "execution_count": null,
      "metadata": {
        "collapsed": true,
        "id": "D1U2zPgcp_L5"
      },
      "outputs": [],
      "source": [
        "v = 2 ** (1/2)\n",
        "print(\"O valor da raiz quadrada de 2 é %.4f\" % (v))"
      ]
    },
    {
      "cell_type": "markdown",
      "metadata": {
        "id": "pbwbKXtBp_L5"
      },
      "source": [
        "## Entrada de dados com input\n",
        "\n",
        "Sempre que quisermos que o usuário entre com alguma informação no nosso programa, usamos a função ```input```.\n",
        "\n",
        "A função ```input``` mostra um texto que será mostrado para o usuário e retorna o que o usuário digitou (sempre do tipo texto). Você deve sempre digitar ```Enter``` ao final da entrada de dados. Guardamos o valor retornado pela função input em uma variável.\n",
        "\n",
        "Exemplos:"
      ]
    },
    {
      "cell_type": "code",
      "execution_count": null,
      "metadata": {
        "id": "khDTQ5v2p_L5",
        "outputId": "b2fcb08f-39f9-432d-bb99-f7f60a048367"
      },
      "outputs": [
        {
          "name": "stdout",
          "output_type": "stream",
          "text": [
            "Qual o seu nome?Emanuele\n",
            "Emanuele, quantos anos você tem?39\n",
            "Emanuele\n",
            "39\n"
          ]
        }
      ],
      "source": [
        "nome = input('Qual o seu nome? ')\n",
        "idade = input('%s, quantos anos você tem? ' % (nome))\n",
        "print(nome)\n",
        "print(idade)"
      ]
    },
    {
      "cell_type": "markdown",
      "metadata": {
        "id": "qO0LBKpIp_L5"
      },
      "source": [
        "Como o resultado de ```input``` é sempre um texto, precisamos converter o valor retornado por ela para número se quisermos fazer alguma operação com esse número. Por exemplo:\n"
      ]
    },
    {
      "cell_type": "code",
      "execution_count": null,
      "metadata": {
        "id": "caA1e5lep_L5",
        "outputId": "5f094df0-7cc4-424e-f246-2ec58536e4c4"
      },
      "outputs": [
        {
          "name": "stdout",
          "output_type": "stream",
          "text": [
            "Quantos anos você tem? 39\n",
            "Você sabia que já viveu 14235 dias?\n"
          ]
        }
      ],
      "source": [
        "idade = int(input('Quantos anos você tem? ' ))\n",
        "dias = idade * 365\n",
        "print(\"Você sabia que já viveu %s dias?\" % dias)"
      ]
    },
    {
      "cell_type": "markdown",
      "metadata": {
        "id": "kMftRSOvp_L5"
      },
      "source": [
        "Agora vamos praticar:\n",
        "\n",
        "1. Na linha 1, crie uma variável chamada apelido, peça para o(a) usuário(a) digitar como ele ou ela gosta de ser chamada.\n",
        "2. Na linha 2, pergunte ao usuário qual a sua cor favorita e guarde na variável cor.\n",
        "3. Ao final, mostre: ```\"____ , sua cor favorita é ____.\"```, trocando ``` ____``` pelo conteúdo das variáveis."
      ]
    },
    {
      "cell_type": "code",
      "execution_count": null,
      "metadata": {
        "collapsed": true,
        "id": "rsxUrtUNp_L5"
      },
      "outputs": [],
      "source": [
        "apelido = input(\"Como você gosta de ser chamado(a)? \")\n",
        "cor = input(\"Qual sua cor favorita? \")\n",
        "print(\"%s, sua cor favorita é %s.\" % (apelido, cor))"
      ]
    },
    {
      "cell_type": "markdown",
      "metadata": {
        "id": "GidiEsx9p_L5"
      },
      "source": [
        "## Acesso por índice\n",
        "Em uma string, a cada **caractere** é atribuído um **número**. Esse número é chamado **índice**. Veja o diagrama abaixo:\n",
        "```\n",
        "A string \"PYTHON\" possui seis caracteres,\n",
        "numerados de 0 a 5, como mostrado abaixo:\n",
        "\n",
        "+---+---+---+---+---+---+\n",
        "| P | Y | T | H | O | N |\n",
        "+---+---+---+---+---+---+\n",
        "  0   1   2   3   4   5\n",
        "\n",
        "Então, se você quisesse acessar a letra \"Y\", você pode digitar apenas\n",
        "\"PYTHON\"[1] (sempre comece a contar do zero!)\n",
        "```\n",
        "\n",
        "Veja esses outros exemplos:"
      ]
    },
    {
      "cell_type": "code",
      "execution_count": null,
      "metadata": {
        "id": "G8ClQ50Sp_L5"
      },
      "outputs": [],
      "source": [
        "g = \"gatos\"[0]\n",
        "r = \"Oscar\"[4]"
      ]
    },
    {
      "cell_type": "markdown",
      "metadata": {
        "id": "5FLyQjn2p_L6"
      },
      "source": [
        "Nos exemplos acima, nós criamos uma nova variável chamada g e lhe atribuímos \"g\", o caractere no índice 0 da string \"gatos\".\n",
        "\n",
        "Depois, nós criamos uma nova variável r e lhe atribuímos \"r\", o caractere no índice quatro da string \"Oscar\".\n",
        "\n",
        "Em Python, **nós começamos a contar o índice a partir do 0 (zero) em vez de 1.**\n",
        "\n",
        "Na célula abaixo atribua à variável ```terceira_letra```, a terceira letra da string ```\"REPLICAÇÃO\"```.  **Mais uma vez, lembre-se de que a terceira letra não está no índice 3. Comece a contar os índices do zero.**"
      ]
    },
    {
      "cell_type": "code",
      "execution_count": null,
      "metadata": {
        "id": "CXqv1IjQp_L6"
      },
      "outputs": [],
      "source": [
        "terceira_letra = \"REPLICAÇÃO\"[2]\n",
        "\n",
        "print(terceira_letra)"
      ]
    },
    {
      "cell_type": "markdown",
      "metadata": {
        "id": "7j9jmktnp_L6"
      },
      "source": [
        "## Fatiamento de strings\n",
        "\n",
        "Às vezes queremos ter acesso a uma parte da string, e não a apenas um caractere. Para isso usamos o fatiamento (do inglês, *slicing*). Vejamos alguns exemplos:\n"
      ]
    },
    {
      "cell_type": "code",
      "execution_count": null,
      "metadata": {
        "id": "2w6Nnr3pp_L6"
      },
      "outputs": [],
      "source": [
        "frase = \"Eu estou aprendendo Python\"\n",
        "# obtendo os dois primeiros caracteres:\n",
        "print(frase[0:2])"
      ]
    },
    {
      "cell_type": "markdown",
      "metadata": {
        "id": "q_uCkjbgp_L6"
      },
      "source": [
        "O fatiamento funciona utilizando dois pontos **(:)** no índice de uma string para indicar um intervalo. Veja a explicação abaixo:\n",
        "\n",
        "![Como funciona o fatiamento](images/fatiamento.png)\n",
        "\n",
        "Observe que o índice do fim é não inclusivo, ou seja, os caracteres usados vão até o índice anterior ao índice do fim.\n",
        "\n",
        "Nós podemos omitir o índice da esquerda para indicar que o índice usado é o zero, representando o início da string:"
      ]
    },
    {
      "cell_type": "code",
      "execution_count": null,
      "metadata": {
        "id": "cJZphymlp_L6",
        "colab": {
          "base_uri": "https://localhost:8080/"
        },
        "outputId": "c90099c7-7bdb-4dea-af70-8b5d3c56e64a"
      },
      "outputs": [
        {
          "output_type": "stream",
          "name": "stdout",
          "text": [
            "Eu\n"
          ]
        }
      ],
      "source": [
        "frase = \"Eu estou aprendendo Python\"\n",
        "# obtendo os dois primeiros caracteres:\n",
        "print(frase[:2])"
      ]
    },
    {
      "cell_type": "markdown",
      "metadata": {
        "id": "vUUF7Nc_p_L6"
      },
      "source": [
        "Da mesma forma que podemos omitir o da direita para indicar que sejam usados os caracteres até o final da string:"
      ]
    },
    {
      "cell_type": "code",
      "execution_count": null,
      "metadata": {
        "id": "nUo9vHVFp_L6",
        "outputId": "0c147673-2980-4a59-d354-844434d6a850",
        "colab": {
          "base_uri": "https://localhost:8080/"
        }
      },
      "outputs": [
        {
          "output_type": "stream",
          "name": "stdout",
          "text": [
            "estou aprendendo Python\n"
          ]
        }
      ],
      "source": [
        "frase = \"Eu estou aprendendo Python\"\n",
        "# obtendo uma substring a partir do quarto caractere até o final:\n",
        "print(frase[3:])"
      ]
    },
    {
      "cell_type": "markdown",
      "metadata": {
        "id": "MQNEKCJcp_L6"
      },
      "source": [
        "Usando apenas os dois pontos, a string inteira é utilizada (ou melhor, uma cópia dela):"
      ]
    },
    {
      "cell_type": "code",
      "execution_count": null,
      "metadata": {
        "id": "yPMA79ejp_L6"
      },
      "outputs": [],
      "source": [
        "frase = \"Eu estou aprendendo Python\"\n",
        "# obtendo uma cópia da string completa\n",
        "print(frase[:])"
      ]
    },
    {
      "cell_type": "markdown",
      "metadata": {
        "id": "Ppp5uNj0p_L6"
      },
      "source": [
        "Índices negativos indicam posições a partir do fim:"
      ]
    },
    {
      "cell_type": "code",
      "execution_count": null,
      "metadata": {
        "id": "XT3WuiO9p_L6"
      },
      "outputs": [],
      "source": [
        "frase = \"Eu estou aprendendo Python\"\n",
        "# obtendo apenas o último caractere\n",
        "print(frase[-1:])"
      ]
    },
    {
      "cell_type": "markdown",
      "metadata": {
        "id": "L79W0jN_p_L6"
      },
      "source": [
        "Tente adivinhar o que será mostrado abaixo, antes de executar a célula."
      ]
    },
    {
      "cell_type": "code",
      "execution_count": null,
      "metadata": {
        "id": "0RXt0iKHp_L6"
      },
      "outputs": [],
      "source": [
        "frase = \"Eu estou aprendendo Python\"\n",
        "# o que será mostrado abaixo?\n",
        "print(frase[9:-7])"
      ]
    },
    {
      "cell_type": "markdown",
      "metadata": {
        "id": "Mhj63Hjrp_L6"
      },
      "source": [
        "## Importando módulos\n",
        "\n",
        "Em Python, muitas vezes as funções estão organizadas em arquivos chamados módulos. Por sua vez, os módulos são organizados em pacotes ou bibliotecas e Python possui várias bibliotecas disponíveis.\n",
        "\n",
        "Por exemplo, a biblioteca `math`. Para usá-la precisamos importá-la:\n",
        "```python\n",
        "import math\n",
        "```\n",
        "\n",
        "Depois de importá-la, podemos usar a notação de ponto para acessar as funções disponíveis na biblioteca. Veja o exemplo abaixo, no qual usamos a função sqrt (que calcula a raiz quadrada)."
      ]
    },
    {
      "cell_type": "code",
      "execution_count": null,
      "metadata": {
        "id": "peUS9b1Np_L7",
        "outputId": "aa436021-a7c7-4f13-d2ab-2e95fe64bb97"
      },
      "outputs": [
        {
          "name": "stdout",
          "output_type": "stream",
          "text": [
            "3.0\n"
          ]
        }
      ],
      "source": [
        "import math\n",
        "print(math.sqrt(9))"
      ]
    },
    {
      "cell_type": "markdown",
      "metadata": {
        "id": "g8Xxl1P5p_L7"
      },
      "source": [
        "Quando usamos import dessa maneira estamos importando toda a biblioteca math. Às vezes, precisamos usar apenas uma função ou variável da biblioteca. Nesse caso nós podemos importar apenas a função desejada:\n",
        "```python\n",
        "from math import sqrt\n",
        "```\n",
        "\n",
        "E nesse caso, nós não precisamos usar a notação de ponto, chamando `sqrt` diretamente. Por exemplo:"
      ]
    },
    {
      "cell_type": "code",
      "execution_count": null,
      "metadata": {
        "id": "lTZsUTSbp_L7",
        "outputId": "0a17fe9c-83e0-45f2-fe93-17eb4998fe3a",
        "colab": {
          "base_uri": "https://localhost:8080/"
        }
      },
      "outputs": [
        {
          "output_type": "stream",
          "name": "stdout",
          "text": [
            "3.0\n"
          ]
        }
      ],
      "source": [
        "from math import sqrt\n",
        "print(sqrt(9))"
      ]
    },
    {
      "cell_type": "markdown",
      "metadata": {
        "id": "YuVtFZpVp_L7"
      },
      "source": [
        "A biblioteca math também inclui a variável `pi`. Na célula abaixo, peça ao usuário para digitar um raio de uma circunferência (guarde em uma variável `raio` do tipo `float`) e mostre o comprimento da circunferência ( $2*\\pi*r$). Não se esqueça de importar a variável pi no início da célula."
      ]
    },
    {
      "cell_type": "code",
      "execution_count": null,
      "metadata": {
        "collapsed": true,
        "id": "a8ximaYYp_L7"
      },
      "outputs": [],
      "source": [
        "from math import pi\n",
        "r = float(input(\"Digite o raio da circunferência \"))\n",
        "print(2 * (pi) * r)"
      ]
    },
    {
      "cell_type": "markdown",
      "metadata": {
        "id": "yVRj7N4op_L7"
      },
      "source": [
        "O código abaixo mostra como ver todas as variáveis e funções disponíveis em uma biblioteca em python:"
      ]
    },
    {
      "cell_type": "code",
      "execution_count": null,
      "metadata": {
        "id": "DTSXFPVIp_L7",
        "outputId": "eae0f97b-ff70-4aaf-d1c0-14cff41e6d58",
        "colab": {
          "base_uri": "https://localhost:8080/"
        }
      },
      "outputs": [
        {
          "output_type": "stream",
          "name": "stdout",
          "text": [
            "['__doc__', '__loader__', '__name__', '__package__', '__spec__', 'acos', 'acosh', 'asin', 'asinh', 'atan', 'atan2', 'atanh', 'ceil', 'comb', 'copysign', 'cos', 'cosh', 'degrees', 'dist', 'e', 'erf', 'erfc', 'exp', 'expm1', 'fabs', 'factorial', 'floor', 'fmod', 'frexp', 'fsum', 'gamma', 'gcd', 'hypot', 'inf', 'isclose', 'isfinite', 'isinf', 'isnan', 'isqrt', 'lcm', 'ldexp', 'lgamma', 'log', 'log10', 'log1p', 'log2', 'modf', 'nan', 'nextafter', 'perm', 'pi', 'pow', 'prod', 'radians', 'remainder', 'sin', 'sinh', 'sqrt', 'tan', 'tanh', 'tau', 'trunc', 'ulp']\n"
          ]
        }
      ],
      "source": [
        "import math\n",
        "tudo = dir(math) # Atribui a tudo uma lista de coisas de math\n",
        "print(tudo) # Mostra tudo"
      ]
    },
    {
      "cell_type": "markdown",
      "metadata": {
        "id": "LFs4SBaup_L7"
      },
      "source": [
        "## Revisão\n",
        "\n",
        "Aprendemos bastante nesse notebook, incluindo:\n",
        "\n",
        "#### Três maneiras de criar strings:\n",
        "\n",
        "```python\n",
        "'Alfa'\n",
        "\"Beta\"\n",
        "str(4)\n",
        "```\n",
        "\n",
        "#### Métodos de strings:\n",
        "\n",
        "```python\n",
        "len(\"Casa\")\n",
        "\"Dado\".upper()\n",
        "\"Escola\".lower()\n",
        "```\n",
        "\n",
        "####  Fatiamento de strings\n",
        "```python\n",
        "\"Python é massa!\"[0:6]\n",
        "\"Vamos em frente!\"[-7:]\n",
        "```\n",
        "\n",
        "#### Mostrar uma string:\n",
        "\n",
        "```python\n",
        "print(\"Fortaleza\")\n",
        "```\n",
        "\n",
        "#### Entrada de dados\n",
        "\n",
        "```python\n",
        "idade = int(input(\"Qual o seu nome? \"))\n",
        "```\n",
        "\n",
        "\n",
        "#### E técnicas mais avançadas de formatação de strings:\n",
        "\n",
        "```python\n",
        "g = \"Geladeira\"\n",
        "h = \"Horizontal\"\n",
        "print (\"%s, %s\" % (g, h))\n",
        "```\n",
        "\n",
        "### Exercícios\n",
        "\n",
        "Na célula abaixo, faça:\n",
        "1. Crie a variável minha_string e lhe atribua qualquer string que você desejar\n",
        "2. Na linha abaixo, mostre o tamanho de minha_string\n",
        "3. Na próxima linha, mostre a versão de minha_string contendo apenas caracteres maiúsculos."
      ]
    },
    {
      "cell_type": "code",
      "execution_count": null,
      "metadata": {
        "collapsed": true,
        "id": "_4inqm6Qp_L7"
      },
      "outputs": [],
      "source": [
        "minha_string = \"Marie Curie\"\n",
        "print(len(minha_string))\n",
        "print(minha_string.upper())"
      ]
    },
    {
      "cell_type": "markdown",
      "metadata": {
        "id": "FkBNdzFlp_L7"
      },
      "source": [
        "Ao terminar, você já pode ir para o próximo notebook: [Exercícios sobre Estrutura Sequencial](04-exercicios.ipynb)."
      ]
    }
  ],
  "metadata": {
    "kernelspec": {
      "display_name": "Python 3",
      "language": "python",
      "name": "python3"
    },
    "language_info": {
      "codemirror_mode": {
        "name": "ipython",
        "version": 3
      },
      "file_extension": ".py",
      "mimetype": "text/x-python",
      "name": "python",
      "nbconvert_exporter": "python",
      "pygments_lexer": "ipython3",
      "version": "3.5.2"
    },
    "colab": {
      "provenance": [],
      "include_colab_link": true
    }
  },
  "nbformat": 4,
  "nbformat_minor": 0
}