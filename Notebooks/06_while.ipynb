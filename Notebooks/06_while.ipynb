{
  "cells": [
    {
      "cell_type": "markdown",
      "metadata": {
        "id": "view-in-github",
        "colab_type": "text"
      },
      "source": [
        "<a href=\"https://colab.research.google.com/github/cbysousa/FUP/blob/main/Notebooks/07_while.ipynb\" target=\"_parent\"><img src=\"https://colab.research.google.com/assets/colab-badge.svg\" alt=\"Open In Colab\"/></a>"
      ]
    },
    {
      "cell_type": "markdown",
      "metadata": {
        "id": "uEdJkdQpne3k"
      },
      "source": [
        "## O Comando while\n",
        "\n",
        "O comando `while` (que significa enquanto) é um tipo de estrutura de repetição em Python.\n",
        "\n",
        "Ele é muito útil quando precisamos repetir um trecho de código.\n",
        "\n",
        "O `while` é parecido com um comando `if`: ele vai executar o código dentro dele se determinada condição for verdadeira. A diferença é que o comando while continuará executando **enquanto** aquela condição for verdadeira.\n",
        "\n",
        "Normalmente ele tem a seguinte sintaxe:\n",
        "```python\n",
        "while condicao :\n",
        "  comandos\n",
        "```  \n",
        "\n",
        "Estruturas de repetição são também chamadas de **laço** ou **loop**.\n",
        "\n",
        "Exemplo de uso do comando `while`:"
      ]
    },
    {
      "cell_type": "code",
      "execution_count": null,
      "metadata": {
        "collapsed": true,
        "id": "vh_7cAKpne3l"
      },
      "outputs": [],
      "source": [
        "cont = 0\n",
        "while cont < 5:\n",
        "  print(\"Olá, eu sou um laço while e cont é\", cont)\n",
        "  cont = cont + 1"
      ]
    },
    {
      "cell_type": "markdown",
      "metadata": {
        "id": "4KwAikU3ne3m"
      },
      "source": [
        "No exemplo acima, a linha 2 decide quando o loop será executado. Portanto, *enquanto cont for menor do 5*, o loop vai continuar a executar. A linha 4 aumenta cont em 1, isso acontece repetidamente até que cont seja igual a 5.\n",
        "\n",
        "## Operações Dentro do loop\n",
        "\n",
        "Dentro de um loop, você pode usar qualquer outro comando em Python, inclusive realizar operações aritméticas.\n",
        "\n",
        "Na célula abaixo, crie um laço com while que mostra todos os números de 1 a 10 elevados ao quadrado, cada qual na sua linha.\n",
        "\n",
        "Complete o comando de acordo com as instruções nos comentários."
      ]
    },
    {
      "cell_type": "code",
      "execution_count": null,
      "metadata": {
        "id": "OhRZoJiOne3m"
      },
      "outputs": [],
      "source": [
        "num = 1\n",
        "\n",
        "while _______ :  # Substitua os _______ pela condição (os números vão de 1 a 10)\n",
        "    # mostre num elevado ao quadrado\n",
        "    print(num ** 2)\n",
        "    # Aumente num em 1 (não se esqueça de fazer isso antes de executar a célula)\n",
        "    num = num + 1"
      ]
    },
    {
      "cell_type": "code",
      "source": [
        "num = 1\n",
        "\n",
        "while num <= 10:\n",
        "    print(num ** 2)\n",
        "    num = num + 1"
      ],
      "metadata": {
        "id": "6RFVp4Rgcp2E"
      },
      "execution_count": null,
      "outputs": []
    },
    {
      "cell_type": "markdown",
      "metadata": {
        "id": "YY_GZgxAne3n"
      },
      "source": [
        "## Detectando Entradas Inválidas\n",
        "\n",
        "Uma aplicação comum para o comando while é checar se entrada do usuário foi válida. Por exemplo, se você pedir ao usuário para digitar s ou n e ele digitar b, então você deve alertá-lo da entrada inválida e solicitar uma nova entrada.\n",
        "\n",
        "Complete o comando abaixo, tal que o usuário será solicitado de uma nova escolha repetidamente enquanto ele digitar valores diferentes de `'s'` ou `'n'`.\n"
      ]
    },
    {
      "cell_type": "code",
      "execution_count": null,
      "metadata": {
        "id": "s9Pt1kIfne3n"
      },
      "outputs": [],
      "source": [
        "escolha = input(\"Você está gostando do curso? (s/n)\").lower()\n",
        "\n",
        "while escolha != 's' and escolha != 'n':  # Complete com a condição (before the colon)\n",
        "    escolha = input(\"Desculpe, não entendi o que você digitou. Tente novamente: \")"
      ]
    },
    {
      "cell_type": "markdown",
      "metadata": {
        "id": "9IfgFcoIne3n"
      },
      "source": [
        "## Jogo Adivinhe o Número (nível *beginner*)\n",
        "\n",
        "Nós vamos fazer o computador \"pensar em um número de 1 a 10\" e o usuário deverá adivinhar esse número. O nosso programa deve pedir para o usuário adivinhar o número **enquanto ele não acertar**.\n",
        "\n",
        "Para calcular um número aleatório de 1 a 10, usaremos a biblioteca `random`. Para isso iremos importá-la com:\n",
        "\n",
        "```python\n",
        "import random\n",
        "```\n",
        "\n",
        "Depois iremos usar a função `randint(inicio,fim)` para gerar um número inteiro aleatório no intervalo fechado de inicio a fim. Por exemplo, para gerar um número entre 1 e 10:\n",
        "```python\n",
        "numero = random.randint(1,10)\n",
        "```\n",
        "\n",
        "Cada vez que você executar a célula abaixo, deverá ser mostrado um número diferente:"
      ]
    },
    {
      "cell_type": "code",
      "execution_count": null,
      "metadata": {
        "id": "YkIwX3nUne3o"
      },
      "outputs": [],
      "source": [
        "import random\n",
        "numero = random.randint(1,10)\n",
        "print(numero)"
      ]
    },
    {
      "cell_type": "markdown",
      "metadata": {
        "id": "COQzwRZjne3o"
      },
      "source": [
        "Na célula abaixo, siga as seguintes instruções:\n",
        "\n",
        "1. Importe a biblioteca `random` e gere um número inteiro aleatório de 1 a 10 e guarde na variável chamada `segredo`.\n",
        "2. Dê as boas-vindas ao usuário e peça para ele tentar adivinhar o número e guarde o palpite dele na variável palpite.\n",
        "3. Inicie o laço do while. Enquanto o palpite do usuário for diferente do número secreto mostre a mensagem 'Palpite errado. Tente novamente.' E peça para o usuário digitar um novo palpite guardando na variável palpite.\n",
        "4. Se o programa sair do laço é porque o usuário acertou, então parabenize o usuário."
      ]
    },
    {
      "cell_type": "code",
      "execution_count": null,
      "metadata": {
        "collapsed": true,
        "id": "53ggonSGne3o"
      },
      "outputs": [],
      "source": [
        "# escreva o seu código aqui\n",
        "import random\n",
        "segredo = random.randint(1,10)\n",
        "\n",
        "print(\"Bem-vindo ao jogo de advinhação!\")\n",
        "palpite = int(input(\"Qual o seu palpite? \"))\n",
        "\n",
        "while palpite != segredo:\n",
        "  palpite = int(input(\"Número errado, tente novamente: \"))\n",
        "else:\n",
        "  print(\"Parabéns! Você acertou!\")"
      ]
    },
    {
      "cell_type": "markdown",
      "source": [
        " Modificando para lidar com a situação em que o usuário digita algo que não pode ser convertido para um número inteiro."
      ],
      "metadata": {
        "id": "_hpHj-4TdhLz"
      }
    },
    {
      "cell_type": "code",
      "source": [
        "import random\n",
        "\n",
        "segredo = random.randint(1,10)\n",
        "\n",
        "print(\"Bem-vindo ao jogo de advinhação!\")\n",
        "\n",
        "while True:\n",
        "    try:\n",
        "        palpite = int(input(\"Qual o seu palpite? \"))\n",
        "        if palpite == segredo:\n",
        "            print(\"Parabéns! Você acertou!\")\n",
        "\n",
        "            break #Para sair do loop\n",
        "\n",
        "        else:\n",
        "            print(\"Número errado, tente novamente.\")\n",
        "    except ValueError:\n",
        "        print(\"Por favor, digite um número válido.\")"
      ],
      "metadata": {
        "id": "ggOMj-vTdg-N"
      },
      "execution_count": null,
      "outputs": []
    },
    {
      "cell_type": "markdown",
      "metadata": {
        "id": "NCin3xUjne3p"
      },
      "source": [
        "Ao terminar, você já pode ir para o próximo notebook: [Exercícios sobre Estrutura de Repetição com while](08-while-exercicios.ipynb)."
      ]
    }
  ],
  "metadata": {
    "kernelspec": {
      "display_name": "Python 3",
      "language": "python",
      "name": "python3"
    },
    "language_info": {
      "codemirror_mode": {
        "name": "ipython",
        "version": 3
      },
      "file_extension": ".py",
      "mimetype": "text/x-python",
      "name": "python",
      "nbconvert_exporter": "python",
      "pygments_lexer": "ipython3",
      "version": "3.5.2"
    },
    "colab": {
      "provenance": [],
      "include_colab_link": true
    }
  },
  "nbformat": 4,
  "nbformat_minor": 0
}
