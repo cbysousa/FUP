{
  "cells": [
    {
      "cell_type": "markdown",
      "metadata": {
        "id": "view-in-github",
        "colab_type": "text"
      },
      "source": [
        "<a href=\"https://colab.research.google.com/github/cbysousa/FUP/blob/main/Notebooks/04_exercicios.ipynb\" target=\"_parent\"><img src=\"https://colab.research.google.com/assets/colab-badge.svg\" alt=\"Open In Colab\"/></a>"
      ]
    },
    {
      "cell_type": "markdown",
      "metadata": {
        "id": "Zfb04bY26xg9"
      },
      "source": [
        "# Exercícios sobre Estrutura Sequencial\n",
        "\n",
        "> Antes de iniciar qualquer notebook, é importante que você limpe as saídas de todas as células para que você só veja o resultado de uma célula quando executá-la. Para isso, utilize o menu **Editar > Limpar todas as saídas**.\n",
        "\n",
        "## Requisitos\n",
        "\n",
        "Certifique-se de que você concluiu os seguintes notebooks:\n",
        "* [01 Introdução ao Python](01-intro.ipynb)\n",
        "* [02 Introdução à sintaxe de Python](02-sintaxe.ipynb)\n",
        "* [03 Strings, saída e entrada de dados e a biblioteca math](03-strings.ipynb)\n",
        "\n",
        "## Exercícios\n",
        "\n",
        "### Questão 1\n",
        "\n",
        "Suponha que você deseja preencher a seguinte ficha de inscrição de um estudante:\n",
        "\n",
        "```\n",
        "nome:\n",
        "matrícula:\n",
        "curso:\n",
        "idade:\n",
        "e-mail:\n",
        "```\n",
        "Na célula abaixo, escreva um programa que pede os dados do usuário e ao final mostra a ficha preenchida.\n"
      ]
    },
    {
      "cell_type": "code",
      "execution_count": null,
      "metadata": {
        "collapsed": true,
        "id": "Ad3aOZyn6xg_",
        "colab": {
          "base_uri": "https://localhost:8080/",
          "height": 365
        },
        "outputId": "006f27fc-8abb-48c7-a543-3d564f64b7e3"
      },
      "outputs": [
        {
          "output_type": "error",
          "ename": "KeyboardInterrupt",
          "evalue": "Interrupted by user",
          "traceback": [
            "\u001b[0;31m---------------------------------------------------------------------------\u001b[0m",
            "\u001b[0;31mKeyboardInterrupt\u001b[0m                         Traceback (most recent call last)",
            "\u001b[0;32m<ipython-input-7-512e347e31e9>\u001b[0m in \u001b[0;36m<cell line: 2>\u001b[0;34m()\u001b[0m\n\u001b[1;32m      1\u001b[0m \u001b[0;31m# Escreva o seu código aqui\u001b[0m\u001b[0;34m\u001b[0m\u001b[0;34m\u001b[0m\u001b[0m\n\u001b[0;32m----> 2\u001b[0;31m \u001b[0mnome\u001b[0m \u001b[0;34m=\u001b[0m \u001b[0minput\u001b[0m\u001b[0;34m(\u001b[0m\u001b[0;34m'Digite seu nome: '\u001b[0m\u001b[0;34m)\u001b[0m\u001b[0;34m\u001b[0m\u001b[0;34m\u001b[0m\u001b[0m\n\u001b[0m\u001b[1;32m      3\u001b[0m \u001b[0mmatrícula\u001b[0m \u001b[0;34m=\u001b[0m \u001b[0minput\u001b[0m\u001b[0;34m(\u001b[0m\u001b[0;34m'Digite sua matricula: '\u001b[0m\u001b[0;34m)\u001b[0m\u001b[0;34m\u001b[0m\u001b[0;34m\u001b[0m\u001b[0m\n\u001b[1;32m      4\u001b[0m \u001b[0mcurso\u001b[0m \u001b[0;34m=\u001b[0m \u001b[0minput\u001b[0m\u001b[0;34m(\u001b[0m\u001b[0;34m'Digite o nome do seu curso: '\u001b[0m\u001b[0;34m)\u001b[0m\u001b[0;34m\u001b[0m\u001b[0;34m\u001b[0m\u001b[0m\n\u001b[1;32m      5\u001b[0m \u001b[0midade\u001b[0m \u001b[0;34m=\u001b[0m \u001b[0minput\u001b[0m\u001b[0;34m(\u001b[0m\u001b[0;34m'Digite sua idade: '\u001b[0m\u001b[0;34m)\u001b[0m\u001b[0;34m\u001b[0m\u001b[0;34m\u001b[0m\u001b[0m\n",
            "\u001b[0;32m/usr/local/lib/python3.10/dist-packages/ipykernel/kernelbase.py\u001b[0m in \u001b[0;36mraw_input\u001b[0;34m(self, prompt)\u001b[0m\n\u001b[1;32m    849\u001b[0m                 \u001b[0;34m\"raw_input was called, but this frontend does not support input requests.\"\u001b[0m\u001b[0;34m\u001b[0m\u001b[0;34m\u001b[0m\u001b[0m\n\u001b[1;32m    850\u001b[0m             )\n\u001b[0;32m--> 851\u001b[0;31m         return self._input_request(str(prompt),\n\u001b[0m\u001b[1;32m    852\u001b[0m             \u001b[0mself\u001b[0m\u001b[0;34m.\u001b[0m\u001b[0m_parent_ident\u001b[0m\u001b[0;34m,\u001b[0m\u001b[0;34m\u001b[0m\u001b[0;34m\u001b[0m\u001b[0m\n\u001b[1;32m    853\u001b[0m             \u001b[0mself\u001b[0m\u001b[0;34m.\u001b[0m\u001b[0m_parent_header\u001b[0m\u001b[0;34m,\u001b[0m\u001b[0;34m\u001b[0m\u001b[0;34m\u001b[0m\u001b[0m\n",
            "\u001b[0;32m/usr/local/lib/python3.10/dist-packages/ipykernel/kernelbase.py\u001b[0m in \u001b[0;36m_input_request\u001b[0;34m(self, prompt, ident, parent, password)\u001b[0m\n\u001b[1;32m    893\u001b[0m             \u001b[0;32mexcept\u001b[0m \u001b[0mKeyboardInterrupt\u001b[0m\u001b[0;34m:\u001b[0m\u001b[0;34m\u001b[0m\u001b[0;34m\u001b[0m\u001b[0m\n\u001b[1;32m    894\u001b[0m                 \u001b[0;31m# re-raise KeyboardInterrupt, to truncate traceback\u001b[0m\u001b[0;34m\u001b[0m\u001b[0;34m\u001b[0m\u001b[0m\n\u001b[0;32m--> 895\u001b[0;31m                 \u001b[0;32mraise\u001b[0m \u001b[0mKeyboardInterrupt\u001b[0m\u001b[0;34m(\u001b[0m\u001b[0;34m\"Interrupted by user\"\u001b[0m\u001b[0;34m)\u001b[0m \u001b[0;32mfrom\u001b[0m \u001b[0;32mNone\u001b[0m\u001b[0;34m\u001b[0m\u001b[0;34m\u001b[0m\u001b[0m\n\u001b[0m\u001b[1;32m    896\u001b[0m             \u001b[0;32mexcept\u001b[0m \u001b[0mException\u001b[0m \u001b[0;32mas\u001b[0m \u001b[0me\u001b[0m\u001b[0;34m:\u001b[0m\u001b[0;34m\u001b[0m\u001b[0;34m\u001b[0m\u001b[0m\n\u001b[1;32m    897\u001b[0m                 \u001b[0mself\u001b[0m\u001b[0;34m.\u001b[0m\u001b[0mlog\u001b[0m\u001b[0;34m.\u001b[0m\u001b[0mwarning\u001b[0m\u001b[0;34m(\u001b[0m\u001b[0;34m\"Invalid Message:\"\u001b[0m\u001b[0;34m,\u001b[0m \u001b[0mexc_info\u001b[0m\u001b[0;34m=\u001b[0m\u001b[0;32mTrue\u001b[0m\u001b[0;34m)\u001b[0m\u001b[0;34m\u001b[0m\u001b[0;34m\u001b[0m\u001b[0m\n",
            "\u001b[0;31mKeyboardInterrupt\u001b[0m: Interrupted by user"
          ]
        }
      ],
      "source": [
        "nome = input('Digite seu nome: ')\n",
        "matrícula = input('Digite sua matricula: ')\n",
        "curso = input('Digite o nome do seu curso: ')\n",
        "idade = input('Digite sua idade: ')\n",
        "email = input('Digite seu e-mail:')\n",
        "\n",
        "print(\"\\nFicha do usuário\")\n",
        "print(\"Nome:\",nome)\n",
        "print(\"Matrícula:\",matrícula)\n",
        "print(\"Curso:\",curso)\n",
        "print(\"Idade:\",idade)\n",
        "print(\"E-mail:\",email)"
      ]
    },
    {
      "cell_type": "markdown",
      "metadata": {
        "id": "07XEVds16xhA"
      },
      "source": [
        "### Questão 2\n",
        "\n",
        "Na célula abaixo, escreva um programa que receba três notas, calcule e mostre a média aritmética."
      ]
    },
    {
      "cell_type": "code",
      "execution_count": null,
      "metadata": {
        "collapsed": true,
        "id": "T1he_2FP6xhA",
        "colab": {
          "base_uri": "https://localhost:8080/",
          "height": 365
        },
        "outputId": "b0c87da7-1a34-450e-917c-c8d2a004db61"
      },
      "outputs": [
        {
          "output_type": "error",
          "ename": "KeyboardInterrupt",
          "evalue": "Interrupted by user",
          "traceback": [
            "\u001b[0;31m---------------------------------------------------------------------------\u001b[0m",
            "\u001b[0;31mKeyboardInterrupt\u001b[0m                         Traceback (most recent call last)",
            "\u001b[0;32m<ipython-input-8-420023cbf957>\u001b[0m in \u001b[0;36m<cell line: 2>\u001b[0;34m()\u001b[0m\n\u001b[1;32m      1\u001b[0m \u001b[0;31m# Escreva o seu código aqui\u001b[0m\u001b[0;34m\u001b[0m\u001b[0;34m\u001b[0m\u001b[0m\n\u001b[0;32m----> 2\u001b[0;31m \u001b[0mN1\u001b[0m \u001b[0;34m=\u001b[0m \u001b[0mfloat\u001b[0m\u001b[0;34m(\u001b[0m\u001b[0minput\u001b[0m\u001b[0;34m(\u001b[0m\u001b[0;34m\"Digite a primeira nota: \"\u001b[0m\u001b[0;34m)\u001b[0m\u001b[0;34m)\u001b[0m\u001b[0;34m\u001b[0m\u001b[0;34m\u001b[0m\u001b[0m\n\u001b[0m\u001b[1;32m      3\u001b[0m \u001b[0mN2\u001b[0m \u001b[0;34m=\u001b[0m \u001b[0mfloat\u001b[0m\u001b[0;34m(\u001b[0m\u001b[0minput\u001b[0m\u001b[0;34m(\u001b[0m\u001b[0;34m\"Digite a segunda nota: \"\u001b[0m\u001b[0;34m)\u001b[0m\u001b[0;34m)\u001b[0m\u001b[0;34m\u001b[0m\u001b[0;34m\u001b[0m\u001b[0m\n\u001b[1;32m      4\u001b[0m \u001b[0mN3\u001b[0m \u001b[0;34m=\u001b[0m \u001b[0mfloat\u001b[0m\u001b[0;34m(\u001b[0m\u001b[0minput\u001b[0m\u001b[0;34m(\u001b[0m\u001b[0;34m\"Digite a terceira nota: \"\u001b[0m\u001b[0;34m)\u001b[0m\u001b[0;34m)\u001b[0m\u001b[0;34m\u001b[0m\u001b[0;34m\u001b[0m\u001b[0m\n\u001b[1;32m      5\u001b[0m \u001b[0mmedia\u001b[0m \u001b[0;34m=\u001b[0m \u001b[0;34m(\u001b[0m\u001b[0mN1\u001b[0m \u001b[0;34m+\u001b[0m \u001b[0mN2\u001b[0m \u001b[0;34m+\u001b[0m \u001b[0mN3\u001b[0m \u001b[0;34m/\u001b[0m \u001b[0;36m3\u001b[0m\u001b[0;34m)\u001b[0m\u001b[0;34m\u001b[0m\u001b[0;34m\u001b[0m\u001b[0m\n",
            "\u001b[0;32m/usr/local/lib/python3.10/dist-packages/ipykernel/kernelbase.py\u001b[0m in \u001b[0;36mraw_input\u001b[0;34m(self, prompt)\u001b[0m\n\u001b[1;32m    849\u001b[0m                 \u001b[0;34m\"raw_input was called, but this frontend does not support input requests.\"\u001b[0m\u001b[0;34m\u001b[0m\u001b[0;34m\u001b[0m\u001b[0m\n\u001b[1;32m    850\u001b[0m             )\n\u001b[0;32m--> 851\u001b[0;31m         return self._input_request(str(prompt),\n\u001b[0m\u001b[1;32m    852\u001b[0m             \u001b[0mself\u001b[0m\u001b[0;34m.\u001b[0m\u001b[0m_parent_ident\u001b[0m\u001b[0;34m,\u001b[0m\u001b[0;34m\u001b[0m\u001b[0;34m\u001b[0m\u001b[0m\n\u001b[1;32m    853\u001b[0m             \u001b[0mself\u001b[0m\u001b[0;34m.\u001b[0m\u001b[0m_parent_header\u001b[0m\u001b[0;34m,\u001b[0m\u001b[0;34m\u001b[0m\u001b[0;34m\u001b[0m\u001b[0m\n",
            "\u001b[0;32m/usr/local/lib/python3.10/dist-packages/ipykernel/kernelbase.py\u001b[0m in \u001b[0;36m_input_request\u001b[0;34m(self, prompt, ident, parent, password)\u001b[0m\n\u001b[1;32m    893\u001b[0m             \u001b[0;32mexcept\u001b[0m \u001b[0mKeyboardInterrupt\u001b[0m\u001b[0;34m:\u001b[0m\u001b[0;34m\u001b[0m\u001b[0;34m\u001b[0m\u001b[0m\n\u001b[1;32m    894\u001b[0m                 \u001b[0;31m# re-raise KeyboardInterrupt, to truncate traceback\u001b[0m\u001b[0;34m\u001b[0m\u001b[0;34m\u001b[0m\u001b[0m\n\u001b[0;32m--> 895\u001b[0;31m                 \u001b[0;32mraise\u001b[0m \u001b[0mKeyboardInterrupt\u001b[0m\u001b[0;34m(\u001b[0m\u001b[0;34m\"Interrupted by user\"\u001b[0m\u001b[0;34m)\u001b[0m \u001b[0;32mfrom\u001b[0m \u001b[0;32mNone\u001b[0m\u001b[0;34m\u001b[0m\u001b[0;34m\u001b[0m\u001b[0m\n\u001b[0m\u001b[1;32m    896\u001b[0m             \u001b[0;32mexcept\u001b[0m \u001b[0mException\u001b[0m \u001b[0;32mas\u001b[0m \u001b[0me\u001b[0m\u001b[0;34m:\u001b[0m\u001b[0;34m\u001b[0m\u001b[0;34m\u001b[0m\u001b[0m\n\u001b[1;32m    897\u001b[0m                 \u001b[0mself\u001b[0m\u001b[0;34m.\u001b[0m\u001b[0mlog\u001b[0m\u001b[0;34m.\u001b[0m\u001b[0mwarning\u001b[0m\u001b[0;34m(\u001b[0m\u001b[0;34m\"Invalid Message:\"\u001b[0m\u001b[0;34m,\u001b[0m \u001b[0mexc_info\u001b[0m\u001b[0;34m=\u001b[0m\u001b[0;32mTrue\u001b[0m\u001b[0;34m)\u001b[0m\u001b[0;34m\u001b[0m\u001b[0;34m\u001b[0m\u001b[0m\n",
            "\u001b[0;31mKeyboardInterrupt\u001b[0m: Interrupted by user"
          ]
        }
      ],
      "source": [
        "N1 = float(input(\"Digite a primeira nota: \"))\n",
        "N2 = float(input(\"Digite a segunda nota: \"))\n",
        "N3 = float(input(\"Digite a terceira nota: \"))\n",
        "\n",
        "media = (N1 + N2 + N3 / 3)\n",
        "\n",
        "print(\"A média aritmética das notas é\", media)"
      ]
    },
    {
      "cell_type": "markdown",
      "metadata": {
        "id": "F-bTln576xhA"
      },
      "source": [
        "### Questão 3\n",
        "Na célula abaixo, escreva um programa que receba duas notas e seus respectivos pesos e calcule a média ponderada."
      ]
    },
    {
      "cell_type": "code",
      "execution_count": null,
      "metadata": {
        "collapsed": true,
        "id": "VArEeoN96xhA",
        "colab": {
          "base_uri": "https://localhost:8080/"
        },
        "outputId": "f496954d-04a1-4689-f6c2-10e9dd898688"
      },
      "outputs": [
        {
          "output_type": "stream",
          "name": "stdout",
          "text": [
            "Digite a primeira nota: 10\n",
            "Digite a segunda nota: 10\n",
            "A média ponderada das notas é: 10.0\n"
          ]
        }
      ],
      "source": [
        "N1 = float(input(\"Digite a primeira nota: \"))\n",
        "N2 = float(input(\"Digite a segunda nota: \"))\n",
        "\n",
        "notas = N1, N2\n",
        "pesos = [0.3, 0.4]\n",
        "\n",
        "media = (N1 * pesos[0] + N2 * pesos[1]) / sum(pesos)\n",
        "\n",
        "print(\"A média ponderada das notas é:\", media)"
      ]
    },
    {
      "cell_type": "markdown",
      "metadata": {
        "id": "fQR3MWon6xhB"
      },
      "source": [
        "### Questão 4\n",
        "Na céĺula abaixo, escreva um programa que calcule e mostre a área de um círculo. Sabe-se que área do circulo é dado por $a = \\pi*r^{2}$.  OBS. Todos os valores tratados no programa devem ser números reais (``double``).\n",
        "\n",
        "> Não se esqueça de importar **pi** da biblioteca **math**."
      ]
    },
    {
      "cell_type": "code",
      "execution_count": null,
      "metadata": {
        "collapsed": true,
        "id": "Q9e6m5y56xhB",
        "colab": {
          "base_uri": "https://localhost:8080/"
        },
        "outputId": "26b73886-cf56-4f50-9153-2f90f7816596"
      },
      "outputs": [
        {
          "output_type": "stream",
          "name": "stdout",
          "text": [
            "Digite o raio do círculo: 6\n",
            "A área do círculo é: 113.09733552923255\n"
          ]
        }
      ],
      "source": [
        "import math\n",
        "\n",
        "def calcular_area_circulo(raio):\n",
        "    return math.pi * raio ** 2\n",
        "\n",
        "raio = float(input(\"Digite o raio do círculo: \"))\n",
        "area = calcular_area_circulo(raio)\n",
        "\n",
        "print(\"A área do círculo é:\", area)"
      ]
    },
    {
      "cell_type": "markdown",
      "metadata": {
        "id": "AMitO_pB6xhB"
      },
      "source": [
        "### Questão 5\n",
        "Na célula abaixo, escreva um programa que receba um número positivo maior que zero, calcule e mostre:\n",
        "* a) o número digitado ao quadrado\n",
        "* b) o número digitado ao cubo\n",
        "* c) a raiz quadrada do número digitado\n",
        "* d) a raiz cúbica do número digitado"
      ]
    },
    {
      "cell_type": "code",
      "source": [
        "num = int(input(\"Digite um número: \"))\n",
        "\n",
        "print(\"O quadrado de\", num, \"é:\", num ** 2)\n",
        "print(\"O valor de\", num, \"ao cubo é:\", num ** 3)\n",
        "\n",
        "import math\n",
        "\n",
        "raiz_quadrada = math.sqrt(num)\n",
        "\n",
        "print(\"A raiz quadrada de\", num, \"é:\", raiz_quadrada)\n",
        "\n",
        "raiz_cubica = pow(num, (1/3))\n",
        "\n",
        "print(\"A raiz cúbica de\", num, \"é:\", raiz_cubica)"
      ],
      "metadata": {
        "id": "PU83RavfR74l",
        "colab": {
          "base_uri": "https://localhost:8080/"
        },
        "outputId": "e6dfc50a-ea03-44c9-ef81-cfb0a409801a"
      },
      "execution_count": null,
      "outputs": [
        {
          "output_type": "stream",
          "name": "stdout",
          "text": [
            "Digite um número: 6\n",
            "O quadrado de 6 é: 36\n",
            "O valor de 6 ao cubo é: 216\n",
            "A raiz quadrada de 6 é: 2.449489742783178\n",
            "A raiz cúbica de 6 é: 1.8171205928321397\n"
          ]
        }
      ]
    },
    {
      "cell_type": "markdown",
      "source": [
        "## Questão 6\n",
        "Sabe-se que o volume da esfera é dado por $V = \\frac{4}{3}*\\pi*r^{3}$, onde $r$ representa o raio da esfera. Assim, na celula abaixo, escreva um programa que, dado o valor do raio $r$ via teclado, ele calcule e imprima o volume $V$ da esfera correspondente.  OBS. Todos os valores tratados no programa devem ser números reais (``double``).\n",
        "\n",
        "> Não se esqueça de importar **pi** da biblioteca **math**."
      ],
      "metadata": {
        "id": "Uz6zcAMts6gL"
      }
    },
    {
      "cell_type": "code",
      "source": [
        "import math\n",
        "\n",
        "def calcular_volume_da_esfera(raio):\n",
        "  return 4/3 * math.pi * raio ** 3\n",
        "\n",
        "raio = float(input(\"Digite o valor do raio:\"))\n",
        "volume = calcular_volume_da_esfera(raio)\n",
        "\n",
        "print(\"A área da esfera é\", volume)"
      ],
      "metadata": {
        "id": "JRJgqa_FuUNh",
        "colab": {
          "base_uri": "https://localhost:8080/"
        },
        "outputId": "9d2a8b4a-fc4c-4c2b-fa01-1be0428fd850"
      },
      "execution_count": null,
      "outputs": [
        {
          "output_type": "stream",
          "name": "stdout",
          "text": [
            "Digite o valor do raio:6\n",
            "A área da esfera é 904.7786842338603\n"
          ]
        }
      ]
    },
    {
      "cell_type": "markdown",
      "metadata": {
        "id": "w_Rs20j_6xhC"
      },
      "source": [
        "### Questão 7\n",
        "Na célula abaixo, escreva um programa que pede os seguintes dados:\n",
        "* Valor do salário de um funcionário\n",
        "* Aumento em porcentagem\n",
        "Depois mostre o valor do aumento e o salário com aumento, ambos arredondados para duas casas decimais. Veja um  exemplo de execução desse programa abaixo:\n",
        "```\n",
        "Digite o salário: 1000.45\n",
        "Digite o aumento em porcentagem: 15\n",
        "O aumento será: R$150.07\n",
        "E o salário será: R$1150.52\n",
        "```\n"
      ]
    },
    {
      "cell_type": "code",
      "execution_count": null,
      "metadata": {
        "collapsed": true,
        "id": "81gCSuL26xhC",
        "colab": {
          "base_uri": "https://localhost:8080/"
        },
        "outputId": "5d8cbab9-73bb-43bb-b81c-19ec94f6b7cd"
      },
      "outputs": [
        {
          "output_type": "stream",
          "name": "stdout",
          "text": [
            "Digite o valor do salário: 1000\n",
            "Digite o aumento em porcentagem: 15\n",
            "O aumento será: R$150.00\n",
            "E o salário será: R$1150.00\n"
          ]
        }
      ],
      "source": [
        "def calcular_aumento(salario, aumento):\n",
        "    aumento = (aumento / 100) * salario\n",
        "    novo_salario = salario + aumento\n",
        "    return aumento, novo_salario\n",
        "\n",
        "salario = float(input(\"Digite o valor do salário: \"))\n",
        "aumento = float(input(\"Digite o aumento em porcentagem: \"))\n",
        "\n",
        "aumento, novo_salario = calcular_aumento(salario, aumento)\n",
        "\n",
        "print(\"O aumento será: R${:.2f}\".format(aumento))\n",
        "print(\"E o salário será: R${:.2f}\".format(novo_salario))"
      ]
    },
    {
      "cell_type": "markdown",
      "metadata": {
        "id": "amt1ssPt6xhC"
      },
      "source": [
        "### Questão 8\n",
        "Na célula abaixo, escreva um programa que pede uma temperatura em graus Fahrenheit, converta e mostre a temperatura em Celsius, arredondada para uma casa decimal."
      ]
    },
    {
      "cell_type": "code",
      "execution_count": null,
      "metadata": {
        "collapsed": true,
        "id": "_7506C8M6xhC",
        "colab": {
          "base_uri": "https://localhost:8080/"
        },
        "outputId": "8b70c23c-4dbb-4a5a-a2c7-f884f6454ad6"
      },
      "outputs": [
        {
          "output_type": "stream",
          "name": "stdout",
          "text": [
            "Escreva a temperatura em graus Fahrenheit:70\n",
            "O valor da temperatura em graus Celsius é: 52.2°C\n"
          ]
        }
      ],
      "source": [
        "def calcular_temperatura(F):\n",
        "  C = F - 32 / 1.8\n",
        "  return C\n",
        "\n",
        "F = float(input(\"Escreva a temperatura em graus Fahrenheit:\"))\n",
        "\n",
        "C = calcular_temperatura(F)\n",
        "\n",
        "print(\"O valor da temperatura em graus Celsius é: {:.1f}°C\".format(C))"
      ]
    },
    {
      "cell_type": "markdown",
      "source": [
        "### Questão 9\n",
        "Na célula abaixo, escreva um programa que calcule o preço da gasolina por litro no Brasil se aqui fosse adotado o mesmo preço cobrado nos Estados Unidos. O programa deve capturar dois valores fornecidos via teclado: o preço do galão de gasolina praticado nos Estados Unidos (em dólares) e a taxa de conversão do dólar para o real. O programa então deve exibir o preço do litro de gasolina correspondente em reais. Sabe-se que um galão equivale a $3.7854$ litros."
      ],
      "metadata": {
        "id": "bm1z5EUpqU0L"
      }
    },
    {
      "cell_type": "code",
      "source": [
        "def calcular_preco_litro_gasolina(preco_galao_usd, taxa_conversao):\n",
        "    litros_por_galao = 3.7854\n",
        "    preco_litro_brl = (preco_galao_usd * taxa_conversao) / litros_por_galao\n",
        "    return preco_litro_brl\n",
        "\n",
        "preco_galao_usd = 3.54\n",
        "taxa_conversao = 4.94\n",
        "preco_litro_brl = calcular_preco_litro_gasolina(preco_galao_usd, taxa_conversao)\n",
        "\n",
        "print(\"O preço da gasolina por litro no Brasil seria de R${:.2f}\".format(preco_litro_brl))"
      ],
      "metadata": {
        "id": "_BVrfNwLqrWe",
        "colab": {
          "base_uri": "https://localhost:8080/"
        },
        "outputId": "08a09dc6-6dd0-4ca2-f0cf-356cc14d9fde"
      },
      "execution_count": null,
      "outputs": [
        {
          "output_type": "stream",
          "name": "stdout",
          "text": [
            "O preço da gasolina por litro no Brasil seria de R$4.62\n"
          ]
        }
      ]
    },
    {
      "cell_type": "markdown",
      "source": [
        "### Questão 10\n",
        "Considere as equações de movimento para calcular a posição ($s$) e a velocidade ($v$) de uma partícula em determinado instante $t$, dado sua aceleração $a$, posição inicial $s_{0}$ e velocidade inicial $v_{0}$, de acordo com as fórmulas: (i)  $s = s_{0} + v_{0}*t + \\frac{a*t^{2}}{2}$ e (ii)  $v = v_{0} + a*t$. Assim, na celula abaixo, escreva um programa que capture  os valores de $s_{0}$, $v_{0}$, $a$ e $t$, fornecidos pelo usuário via teclado, calcule e exiba os valores de $s$ e $v$. OBS. Todos os valores tratados no programa devem ser números reais (``double``)."
      ],
      "metadata": {
        "id": "Y44HAffmsAEy"
      }
    },
    {
      "cell_type": "code",
      "source": [
        "def calcular_posicao(s0, v0, a, t):\n",
        "    s = s0 + v0 * t + (a * t ** 2) / 2\n",
        "    return s\n",
        "\n",
        "def calcular_velocidade(v0, a, t):\n",
        "    v = v0 + a * t\n",
        "    return v\n",
        "\n",
        "s0 = float(input(\"Digite a posição inicial (s0): \"))\n",
        "v0 = float(input(\"Digite a velocidade inicial (v0): \"))\n",
        "a = float(input(\"Digite a aceleração (a): \"))\n",
        "t = float(input(\"Digite o instante de tempo (t): \"))\n",
        "\n",
        "s = calcular_posicao(s0, v0, a, t)\n",
        "v = calcular_velocidade(v0, a, t)\n",
        "\n",
        "print(\"A posição (s) da partícula no instante t é:\", s)\n",
        "print(\"A velocidade (v) da partícula no instante t é:\", v)"
      ],
      "metadata": {
        "id": "6nLa54tqsstg",
        "colab": {
          "base_uri": "https://localhost:8080/"
        },
        "outputId": "7d787a27-383c-4cc0-e04a-af8fec586e1e"
      },
      "execution_count": null,
      "outputs": [
        {
          "output_type": "stream",
          "name": "stdout",
          "text": [
            "Digite a posição inicial (s0): 23\n",
            "Digite a velocidade inicial (v0): 25\n",
            "Digite a aceleração (a): 5\n",
            "Digite o instante de tempo (t): 9\n",
            "A posição (s) da partícula no instante t é: 450.5\n",
            "A velocidade (v) da partícula no instante t é: 70.0\n"
          ]
        }
      ]
    },
    {
      "cell_type": "markdown",
      "metadata": {
        "id": "dKe56x7q6xhC"
      },
      "source": [
        "Ao terminar, você já pode ir para o próximo notebook: [Estrutura Condicional](05-condicoes-fluxo-controle.ipynb)."
      ]
    }
  ],
  "metadata": {
    "kernelspec": {
      "display_name": "Python 3",
      "language": "python",
      "name": "python3"
    },
    "language_info": {
      "codemirror_mode": {
        "name": "ipython",
        "version": 3
      },
      "file_extension": ".py",
      "mimetype": "text/x-python",
      "name": "python",
      "nbconvert_exporter": "python",
      "pygments_lexer": "ipython3",
      "version": "3.5.2"
    },
    "colab": {
      "provenance": [],
      "include_colab_link": true
    }
  },
  "nbformat": 4,
  "nbformat_minor": 0
}