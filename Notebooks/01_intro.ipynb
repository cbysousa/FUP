{
  "cells": [
    {
      "cell_type": "markdown",
      "metadata": {
        "id": "view-in-github",
        "colab_type": "text"
      },
      "source": [
        "<a href=\"https://colab.research.google.com/github/cbysousa/FUP/blob/main/Notebooks/01_intro.ipynb\" target=\"_parent\"><img src=\"https://colab.research.google.com/assets/colab-badge.svg\" alt=\"Open In Colab\"/></a>"
      ]
    },
    {
      "cell_type": "markdown",
      "metadata": {
        "id": "VOk840GLV9RQ"
      },
      "source": [
        "# Introdução ao Python"
      ]
    },
    {
      "cell_type": "markdown",
      "metadata": {
        "collapsed": true,
        "id": "KkUucE1-V9RT"
      },
      "source": [
        "## Bem-vindos!\n",
        "Python é uma poderosa linguagem de programação fácil de aprender. Você pode usá-la para criar aplicações Web ou não nas mais diversas áreas.\n",
        "\n",
        "Nós estamos usando [Goolge Colab](https://colab.research.google.com/), uma aplicação Web que permite criar e compartilhar documentos contendo código fonte que pode ser executado no próprio navegador. Esses documentos podem conter também equações, imagens, visualizações e qualquer outro texto explicativo como este que você está lendo.\n",
        "\n",
        "Um notebook é formado por uma sequência de células.\n",
        "\n",
        "A célula abaixo é uma célula código. Ela contém código Python que pode ser executado no próprio notebook. Faça um teste: Selecione a célula abaixo e aperte ```Shift + Enter```"
      ]
    },
    {
      "cell_type": "code",
      "execution_count": null,
      "metadata": {
        "scrolled": true,
        "colab": {
          "base_uri": "https://localhost:8080/"
        },
        "id": "KOxXYFLaV9RT",
        "outputId": "2849c927-6a3e-4983-bfd7-1840312e26f1"
      },
      "outputs": [
        {
          "output_type": "stream",
          "name": "stdout",
          "text": [
            "Bem-vindos ao Python!\n"
          ]
        }
      ],
      "source": [
        "print(\"Bem-vindos ao Python!\")"
      ]
    },
    {
      "cell_type": "markdown",
      "metadata": {
        "id": "J1KoQYJeV9RV"
      },
      "source": [
        "Você pode perceber que apareceu o texto **Bem-vindos ao Python!** logo abaixo da célula acima. Você também pode executar a célula selecionada clicando no botão play na barra de ferramentas acima."
      ]
    },
    {
      "cell_type": "markdown",
      "metadata": {
        "id": "xPMCRFQiV9RV"
      },
      "source": [
        "Vamos começar então?\n",
        "\n",
        "Próximo passo: [Introdução à Sintaxe de Python](02-sintaxe.ipynb)."
      ]
    }
  ],
  "metadata": {
    "kernelspec": {
      "display_name": "Python 3",
      "language": "python",
      "name": "python3"
    },
    "language_info": {
      "codemirror_mode": {
        "name": "ipython",
        "version": 3
      },
      "file_extension": ".py",
      "mimetype": "text/x-python",
      "name": "python",
      "nbconvert_exporter": "python",
      "pygments_lexer": "ipython3",
      "version": "3.5.2"
    },
    "colab": {
      "provenance": [],
      "toc_visible": true,
      "include_colab_link": true
    }
  },
  "nbformat": 4,
  "nbformat_minor": 0
}