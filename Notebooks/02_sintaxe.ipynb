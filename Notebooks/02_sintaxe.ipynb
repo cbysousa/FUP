{
  "cells": [
    {
      "cell_type": "markdown",
      "metadata": {
        "id": "view-in-github",
        "colab_type": "text"
      },
      "source": [
        "<a href=\"https://colab.research.google.com/github/cbysousa/FUP/blob/main/Notebooks/02_sintaxe.ipynb\" target=\"_parent\"><img src=\"https://colab.research.google.com/assets/colab-badge.svg\" alt=\"Open In Colab\"/></a>"
      ]
    },
    {
      "cell_type": "markdown",
      "metadata": {
        "collapsed": true,
        "id": "StZl3lLqZia0"
      },
      "source": [
        "# Sintaxe de Python\n",
        "\n",
        "> Antes de iniciar qualquer notebook, é importante que você limpe as saídas de todas as células para que você só veja o resultado de uma célula quando executá-la. Para isso, utilize o menu **Editar > Limpar todas as saídas**.\n",
        "\n",
        "## Variáveis"
      ]
    },
    {
      "cell_type": "markdown",
      "metadata": {
        "id": "b6uC6h8uZia2"
      },
      "source": [
        "Para criar as mais diversas aplicações, precisamos armazenar e manipular diferentes tipos de dados. Fazemos usando **variáveis**. Uma **variável** armazena um item de dado (valor) e recebe um nome específico.\n",
        "\n",
        "Por exemplo:"
      ]
    },
    {
      "cell_type": "code",
      "execution_count": null,
      "metadata": {
        "collapsed": true,
        "id": "Q3IysSI7Zia2"
      },
      "outputs": [],
      "source": [
        "num = 9"
      ]
    },
    {
      "cell_type": "markdown",
      "metadata": {
        "id": "yJGFr8hZZia3"
      },
      "source": [
        "A linha acima cria uma variável ```num``` que armazena o número ```9```.\n",
        "\n",
        "Na célula de código abaixo, crie uma variável chamada ```contador``` que armazena o número ```7```.\n"
      ]
    },
    {
      "cell_type": "code",
      "execution_count": null,
      "metadata": {
        "collapsed": true,
        "id": "pIeXq1bVZia3"
      },
      "outputs": [],
      "source": [
        "contador = 7"
      ]
    },
    {
      "cell_type": "markdown",
      "metadata": {
        "id": "BKGhy7r2Zia3"
      },
      "source": [
        "Não se esqueça de executar a célula acima (pressionando ```Shift + Enter```).\n",
        "\n",
        "Ótimo! Você acabou de armazenar um número inteiro em uma variável. Números são um dos tipos de dados que usamos em programação. Outro tipo que também usamos são booleanos."
      ]
    },
    {
      "cell_type": "markdown",
      "metadata": {
        "id": "otk2B4sjZia3"
      },
      "source": [
        "## Booleanos\n",
        "\n",
        "Um booleano é como um interruptor de luz, que só pode estar em dois estados: **ligado** ou **desligado**. Assim, um booleano pode possuir apenas dois valores: **True** (verdadeiro) ou **False** (falso).\n",
        "\n",
        "Você pode usar variáveis para armazenar booleanos da seguinte maneira:\n",
        "\n",
        "```python\n",
        "a = True\n",
        "b = False\n",
        "```\n",
        "\n",
        "Na célula abaixo, crie uma variável booleana ``` aprendendo_python``` e atribua o valor ```True```. Sempre se lembre de executar a célula com ```Shift+Enter```."
      ]
    },
    {
      "cell_type": "code",
      "execution_count": null,
      "metadata": {
        "collapsed": true,
        "id": "ovwmKKZoZia3"
      },
      "outputs": [],
      "source": [
        "aprendendo_python = True"
      ]
    },
    {
      "cell_type": "markdown",
      "metadata": {
        "id": "pe1luVM9Zia3"
      },
      "source": [
        "## Números Inteiros\n",
        "\n",
        "Agora você já sabe como usar variáveis para armazenar valores booleanos. Variáveis numéricas são criadas de modo semelhante:\n",
        "\n",
        "```python\n",
        "semestre = 3\n",
        "```\n",
        "Na célula abaixo, crie uma variável ```idade``` e armazene um número correspondendo à sua idade."
      ]
    },
    {
      "cell_type": "code",
      "execution_count": null,
      "metadata": {
        "id": "xbkVYGJzZia4"
      },
      "outputs": [],
      "source": [
        "idade = 18"
      ]
    },
    {
      "cell_type": "markdown",
      "metadata": {
        "id": "giv1taeeZia4"
      },
      "source": [
        "Suponha que você criou a variável idade com o valor 20, ou seja, ```idade = 20```. Você pode alterar o valor de uma variável, atribuindo um outro valor à idade:\n",
        "\n",
        "```\n",
        "idade = 19\n",
        "\n",
        "```\n",
        "\n",
        "Tente você também. Na célula abaixo foi criada uma variável tamanho com valor 10."
      ]
    },
    {
      "cell_type": "code",
      "execution_count": null,
      "metadata": {
        "collapsed": true,
        "id": "NKmklfh9Zia4"
      },
      "outputs": [],
      "source": [
        "tamanho = 10"
      ]
    },
    {
      "cell_type": "markdown",
      "metadata": {
        "id": "XjkVNs2xZia4"
      },
      "source": [
        " Atribua o novo valor 15 a tamanho na linha abaixo:"
      ]
    },
    {
      "cell_type": "code",
      "execution_count": null,
      "metadata": {
        "collapsed": true,
        "id": "PW_3tzOCZia4"
      },
      "outputs": [],
      "source": [
        "tamanho = 15"
      ]
    },
    {
      "cell_type": "markdown",
      "metadata": {
        "id": "m8VYeLRBZia4"
      },
      "source": [
        "Abaixo está um código que mostra o valor de tamanho. Ao executá-la, é mostrado o valor 15?"
      ]
    },
    {
      "cell_type": "code",
      "execution_count": null,
      "metadata": {
        "id": "qPdkGEd8Zia4",
        "outputId": "bd3f6e7f-c0d1-44ad-aadd-0c71510fd69a",
        "colab": {
          "base_uri": "https://localhost:8080/"
        }
      },
      "outputs": [
        {
          "output_type": "stream",
          "name": "stdout",
          "text": [
            "15\n"
          ]
        }
      ],
      "source": [
        "print(tamanho)"
      ]
    },
    {
      "cell_type": "markdown",
      "metadata": {
        "id": "URGO8PBRZia5"
      },
      "source": [
        "## Números reais\n",
        "\n",
        "Você também pode armazenar números não inteiros em variáveis. Devido a uma limitação de representação nem todos os números reais podem ser representados em um computador, mas uma boa parte.\n",
        "\n",
        "Para isso, usamos o ```.``` (ponto) como separador de casas decimais. Por exemplo:\n",
        "\n",
        "```python\n",
        "altura = 1.78\n",
        "```\n",
        "\n",
        "Na célula abaixo, crie uma variável altura e atribua o valor correspondente à sua altura."
      ]
    },
    {
      "cell_type": "code",
      "execution_count": null,
      "metadata": {
        "id": "bvvxGqmhZia5"
      },
      "outputs": [],
      "source": [
        "altura = 1.65"
      ]
    },
    {
      "cell_type": "markdown",
      "metadata": {
        "collapsed": true,
        "id": "7LbqcPLaZia5"
      },
      "source": [
        "## Espaços\n",
        "\n",
        "Em Python, espaços são usados para estruturar o código. Espaços são importantes e, portanto, você deve tomar cuidado como você os utiliza dentro do código.\n",
        "\n",
        "Por exemplo, a célula abaixo está mal formatada. Existe um *espaço inadequado* no início da segunda linha. Tente executá-la e veja o que acontece:"
      ]
    },
    {
      "cell_type": "code",
      "execution_count": 1,
      "metadata": {
        "id": "3EyMNL0eZia5",
        "outputId": "fabc7070-e346-4648-e500-71008528ddf4",
        "colab": {
          "base_uri": "https://localhost:8080/",
          "height": 106
        }
      },
      "outputs": [
        {
          "output_type": "error",
          "ename": "IndentationError",
          "evalue": "unexpected indent (<ipython-input-1-171d0f8f63ab>, line 2)",
          "traceback": [
            "\u001b[0;36m  File \u001b[0;32m\"<ipython-input-1-171d0f8f63ab>\"\u001b[0;36m, line \u001b[0;32m2\u001b[0m\n\u001b[0;31m    idade = 19\u001b[0m\n\u001b[0m    ^\u001b[0m\n\u001b[0;31mIndentationError\u001b[0m\u001b[0;31m:\u001b[0m unexpected indent\n"
          ]
        }
      ],
      "source": [
        "tamanho = 15\n",
        " idade = 19"
      ]
    },
    {
      "cell_type": "markdown",
      "metadata": {
        "id": "AosqYsEuZia5"
      },
      "source": [
        "Você verá algo como:\n",
        "```\n",
        "File \"<ipython-input-1-6d2a838c2a0b>\", line 2\n",
        "    idade = 19\n",
        "    ^\n",
        "IndentationError: unexpected indent\n",
        "```\n",
        "\n",
        "Para corrigir o erro acima, basta remover o espaço no início da linha onde está variável idade e re-executar a célula.\n",
        "\n",
        "Veja que o interpretador Python executa cada célula, linha por linha, e verifica se existe algum erro."
      ]
    },
    {
      "cell_type": "markdown",
      "metadata": {
        "id": "2KsOIlYtZia5"
      },
      "source": [
        "## Comentários\n",
        "\n",
        "### Comentários de uma linha só\n",
        "\n",
        "Você já viu que em algumas células usamos o símbolo **#** para criar comentários. Um comentário é uma linha de texto que o Python não executará como código. Comentários existem apenas para serem lidos por humanos.\n",
        "\n",
        "Comentários tornam o seu programa mais fácil de ser lido e entendido. Quando você revisitar os códigos escritos no passado ou então compartilhar o seu código com colaboradores, eles podem ler os comentários e facilmente compreender o que o código faz.\n",
        "\n",
        "Na primeira linha da célula abaixo crie um comentário que explica pra que serve a variável ```misterio```.\n",
        "\n",
        "> Observação: Evite o uso de acentos e ç em nomes de variáveis."
      ]
    },
    {
      "cell_type": "code",
      "execution_count": null,
      "metadata": {
        "collapsed": true,
        "id": "oPIEtD4LZia5"
      },
      "outputs": [],
      "source": [
        "#não se pode usar acentos e ç em nomes de variáveis\n",
        "misterio = 3.1416"
      ]
    },
    {
      "cell_type": "markdown",
      "metadata": {
        "id": "Z-nLB7MiZia6"
      },
      "source": [
        "> Observação: Note o uso do ponto como separador de casas decimais. Em Python **não usamos a vírgula, e sim o ponto**.\n",
        "\n",
        "### Comentários de múltiplas linhas\n",
        "\n",
        "O símbolo **#** irá comentar apenas uma única linha de texto. Mesmo podendo criar um comentário com múltiplas linhas, iniciando cada linha com **#**, como foi feito anteriormente, existe uma maneira mais elegante. Para criar comentários grandes, com várias linhas de texto, você pode demarcar todo o bloco de texto do comentário por três aspas duplas (```\"\"\"```) no início e três aspas duplas no final (```\"\"\"```):"
      ]
    },
    {
      "cell_type": "code",
      "execution_count": null,
      "metadata": {
        "collapsed": true,
        "id": "dx9YafrqZia6"
      },
      "outputs": [],
      "source": [
        "\"\"\" Esse é um comentário com\n",
        "várias\n",
        "linhas.\n",
        "Não preciso iniciá-las com #\n",
        "\"\"\""
      ]
    },
    {
      "cell_type": "markdown",
      "metadata": {
        "id": "3J4mddq7Zia6"
      },
      "source": [
        "## Operações Matemáticas\n",
        "\n",
        "Python também permite operações matemáticas. Você pode somar, subtrair, multiplicar e dividir números da seguinte maneira:"
      ]
    },
    {
      "cell_type": "code",
      "execution_count": null,
      "metadata": {
        "collapsed": true,
        "id": "JhmyrsQZZia6"
      },
      "outputs": [],
      "source": [
        "soma = 42 + 27\n",
        "subtracao = 103 - 254\n",
        "multiplicacao = 100 * 0.5\n",
        "divisao = 100 / 9"
      ]
    },
    {
      "cell_type": "markdown",
      "metadata": {
        "id": "BGf2XoesZia6"
      },
      "source": [
        "Na célula abaixo, crie uma variável ```horas``` que armazena o número total de horas no mês de janeiro."
      ]
    },
    {
      "cell_type": "code",
      "execution_count": null,
      "metadata": {
        "id": "eh4fRupPZia6",
        "outputId": "d9976058-0477-48b3-c760-d4a7ad0e8926",
        "colab": {
          "base_uri": "https://localhost:8080/"
        }
      },
      "outputs": [
        {
          "output_type": "stream",
          "name": "stdout",
          "text": [
            "720 h\n"
          ]
        }
      ],
      "source": [
        "horas = 24 * 30\n",
        "print(horas,\"h\")"
      ]
    },
    {
      "cell_type": "markdown",
      "metadata": {
        "id": "7eq1DNjPZia6"
      },
      "source": [
        "### Exponenciação\n",
        "\n",
        "Além das operações simples, também podemos elevar um número a outro em Python. Por exemplo, para calcular $3^2$, fazemos:"
      ]
    },
    {
      "cell_type": "code",
      "execution_count": null,
      "metadata": {
        "id": "oRMoPn2UZia6",
        "outputId": "5bb81f57-09e4-46d0-bc79-c581b1345b62"
      },
      "outputs": [
        {
          "name": "stdout",
          "output_type": "stream",
          "text": [
            "9\n"
          ]
        }
      ],
      "source": [
        "nove = 3 ** 2\n",
        "print(nove)"
      ]
    },
    {
      "cell_type": "markdown",
      "metadata": {
        "id": "BxQ3ESaMZia6"
      },
      "source": [
        "Na célula acima, criamos uma variável chamada nove e atribuímos ```3 ** 2```. Note o uso do operador ```**``` para denotar exponenciação.  \n",
        "\n",
        "Na célula abaixo, crie uma variável oito e armazene o valor $2^3$."
      ]
    },
    {
      "cell_type": "code",
      "execution_count": null,
      "metadata": {
        "id": "rriAmAGRZia7",
        "outputId": "55f3ec72-dd58-4c36-e600-eb4e9807d6dd",
        "colab": {
          "base_uri": "https://localhost:8080/"
        }
      },
      "outputs": [
        {
          "output_type": "stream",
          "name": "stdout",
          "text": [
            "8\n"
          ]
        }
      ],
      "source": [
        "oito = 2**3\n",
        "print(oito)"
      ]
    },
    {
      "cell_type": "markdown",
      "metadata": {
        "id": "Eg0synYsZia7"
      },
      "source": [
        "## Operadores Divisao Inteira e Modulo\n",
        "\n",
        "Sempre que quisermos a parte inteira da divisão entre dois números, usamos o operador ```//```. E sempre que quisermos o resto da divisão inteira, usamos o operador modulo: ```%```.\n",
        "\n",
        "Por exemplo, a célula abaixo não faz a divisão inteira."
      ]
    },
    {
      "cell_type": "code",
      "execution_count": null,
      "metadata": {
        "id": "-Eg7AuL7Zia7",
        "outputId": "8fa1f1ac-723a-4067-d5d8-0018ddbff89f"
      },
      "outputs": [
        {
          "name": "stdout",
          "output_type": "stream",
          "text": [
            "2.5\n"
          ]
        }
      ],
      "source": [
        "divisao = 5 / 2\n",
        "print(divisao)"
      ]
    },
    {
      "cell_type": "markdown",
      "metadata": {
        "id": "RNtvMICkZia7"
      },
      "source": [
        "Para calcular a divisão inteira e o resto, fazemos:"
      ]
    },
    {
      "cell_type": "code",
      "execution_count": null,
      "metadata": {
        "id": "1rWQeBEpZia7",
        "outputId": "e899b075-02f6-48e6-8fd1-db8478cac3d7"
      },
      "outputs": [
        {
          "name": "stdout",
          "output_type": "stream",
          "text": [
            "2\n",
            "1\n"
          ]
        }
      ],
      "source": [
        "divisao = 5 // 2\n",
        "resto = 5 % 2\n",
        "print(divisao)\n",
        "print(resto)"
      ]
    },
    {
      "cell_type": "markdown",
      "metadata": {
        "id": "Fzz8osrIZia7"
      },
      "source": [
        "Pratique o uso desses operadores, mostrando na célula abaixo o total de dias existentes em 80 horas e quantas horas sobram."
      ]
    },
    {
      "cell_type": "code",
      "execution_count": null,
      "metadata": {
        "collapsed": true,
        "id": "_HCyODUlZia7",
        "colab": {
          "base_uri": "https://localhost:8080/"
        },
        "outputId": "449d97f5-741d-4fee-b83f-71c39f623299"
      },
      "outputs": [
        {
          "output_type": "stream",
          "name": "stdout",
          "text": [
            "30\n",
            "8\n"
          ]
        }
      ],
      "source": [
        "dias = horas // 24\n",
        "horas = 80\n",
        "resto = horas % 24\n",
        "print(dias)\n",
        "print(resto)"
      ]
    },
    {
      "cell_type": "markdown",
      "metadata": {
        "id": "CH5z-Tw4Zia8"
      },
      "source": [
        "## Precedência de operadores\n",
        "\n",
        "Quando múltiplos operadores aparecerem em uma mesma expressão, devemos resolvê-los de acordo com a prioridade mostrada na tabela abaixo:\n",
        "\n",
        "| Prioridade    | Operadores |\n",
        "| ------------- | ------------- |\n",
        "| 1&deg;  | Parênteses mais internos  |\n",
        "| 2&deg;  | ``**``  |\n",
        "| 3&deg;  | ``*  /  //  %``  |\n",
        "| 4&deg;  | ``+  -``  |\n",
        "\n",
        "Nota! Em caso de empate (operadores de mesma prioridade), resolve-se da direita para a esquerda.\n",
        "\n",
        "## Revisão\n",
        "Muito bem, até agora aprendemos sobre:\n",
        "\n",
        "* **Variáveis**, que armazenam valores para serem utilizados posteriormente\n",
        "* **Tipos de dados**, tais como números e booleandos\n",
        "* **Espaços**, usados para delimitar blocos em Python e precisam ser respeitados\n",
        "* **Comentários**, usados para deixar o código mais legível\n",
        "* **Operações aritméticas**, incluindo +, -, *, /, // e %\n",
        "\n",
        "### Exercícios\n",
        "Na célula de código abaixo, faça o seguinte:\n",
        "\n",
        "1. Escreva um comentário na primeira linha (pode ser qualquer coisa)\n",
        "2. Crie uma variável ```feliz``` com o valor ```True```\n",
        "3. Crie uma outra variável ```lado``` com o valor 2.5\n",
        "4. Crie uma variável ```area``` com valor de ```lado``` ao quadrado\n",
        "\n",
        "Ao final execute a sua célula e a célula abaixo. Se nenhuma mensagem de erro aparecer, você concluiu essa atividade com sucesso!"
      ]
    },
    {
      "cell_type": "code",
      "execution_count": 2,
      "metadata": {
        "collapsed": true,
        "id": "h8KTm9cbZia8"
      },
      "outputs": [],
      "source": [
        "#Olá!\n",
        "feliz = True\n",
        "lado = 2.5\n",
        "area = lado ** 2"
      ]
    },
    {
      "cell_type": "markdown",
      "metadata": {
        "id": "D0YIIRk4Zia8"
      },
      "source": [
        "Ao terminar, você já pode ir para o próximo notebook: [Strings e saída de dados](03-strings.ipynb)."
      ]
    }
  ],
  "metadata": {
    "kernelspec": {
      "display_name": "Python 3",
      "language": "python",
      "name": "python3"
    },
    "language_info": {
      "codemirror_mode": {
        "name": "ipython",
        "version": 3
      },
      "file_extension": ".py",
      "mimetype": "text/x-python",
      "name": "python",
      "nbconvert_exporter": "python",
      "pygments_lexer": "ipython3",
      "version": "3.5.2"
    },
    "colab": {
      "provenance": [],
      "include_colab_link": true
    }
  },
  "nbformat": 4,
  "nbformat_minor": 0
}