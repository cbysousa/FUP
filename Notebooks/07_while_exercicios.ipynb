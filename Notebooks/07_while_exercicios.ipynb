{
  "cells": [
    {
      "cell_type": "markdown",
      "metadata": {
        "id": "view-in-github",
        "colab_type": "text"
      },
      "source": [
        "<a href=\"https://colab.research.google.com/github/cbysousa/FUP/blob/main/Notebooks/07_while_exercicios.ipynb\" target=\"_parent\"><img src=\"https://colab.research.google.com/assets/colab-badge.svg\" alt=\"Open In Colab\"/></a>"
      ]
    },
    {
      "cell_type": "markdown",
      "metadata": {
        "id": "PKF-mjgjnghx"
      },
      "source": [
        "# Exercícios sobre Estrutura de Repetição com while\n",
        "\n",
        "> Antes de iniciar qualquer notebook, é importante que você limpe as saídas de todas as células para que você só veja o resultado de uma célula quando executá-la. Para isso, utilize o menu **Editar > Limpar todas as saídas**.\n",
        "\n",
        "## Requisitos\n",
        "\n",
        "Certifique-se de que você concluiu os seguintes notebooks:\n",
        "* [Introdução ao Python](01-intro.ipynb)\n",
        "* [Introdução à sintaxe de Python](02-sintaxe.ipynb)\n",
        "* [Strings, saída e entrada de dados e a biblioteca math](03-strings.ipynb)\n",
        "* [Exercícios sobre Estrutura Sequencial](04-exercicios.ipynb)\n",
        "* [Estrutura Condicional](05-condicoes-fluxo-controle.ipynb)\n",
        "* [Exercícios sobre Estrutura Condicional](06-exercicios.ipynb)\n",
        "* [O Comando while](07-while.ipynb)\n",
        "\n",
        "## Exercícios\n",
        "\n",
        "### Questão 1\n",
        "\n",
        "Na célula abaixo, escreva o programa em Python equivalente ao algoritmo escrito em pseudocódigo abaixo:\n",
        "\n",
        "\n",
        "```portugol\n",
        "algoritmo\n",
        "  declare CONT, SAIR, num numérico\n",
        "  CONT ← 0 # inicialização da variável CONT com zero\n",
        "  SAIR ← 0 # inicialização da variável que controla o laço\n",
        "  enquanto SAIR != 1 faça\n",
        "  início\n",
        "    escreva \"Digite um número: \"\n",
        "    leia num\n",
        "    CONT ← CONT + 1 # aumentando em 1 o valor de CONT\n",
        "    escreva \"Digite 0 para continuar ou 1 para sair: \"\n",
        "    leia SAIR\n",
        "  fim\n",
        "  escreva \"Quantidade de números digitados: \", CONT\n",
        "fim.\n",
        "```"
      ]
    },
    {
      "cell_type": "code",
      "execution_count": null,
      "metadata": {
        "collapsed": true,
        "id": "lCFf-_Wanghz"
      },
      "outputs": [],
      "source": [
        "# Escreva o seu código aqui\n",
        "CONT = 0\n",
        "SAIR = 0\n",
        "\n",
        "while SAIR != 1: #enquanto \"SAIR\" for diferente de 1, escreva:\n",
        "  print(\"Digite um número: \")\n",
        "  num = int(input())\n",
        "\n",
        "  CONT += 1 #adiciona 1 ao contador\n",
        "\n",
        "  print(\"Digite 0 para continuar ou 1 para sair: \")\n",
        "  SAIR = int(input())\n",
        "\n",
        "print(f\"Quantidade de números digitados: {CONT}\")"
      ]
    },
    {
      "cell_type": "markdown",
      "metadata": {
        "id": "YhrAgDwUnghz"
      },
      "source": [
        "### Questão 2\n",
        "\n",
        "Na célula abaixo, tomando como base o programa que você escreveu na questão 1, escreva um programa que peça para o usuário entrar com um número enquanto ele desejar e ao final mostre a quantos desses números eram pares."
      ]
    },
    {
      "cell_type": "code",
      "execution_count": null,
      "metadata": {
        "collapsed": true,
        "id": "NvOwR90pnghz"
      },
      "outputs": [],
      "source": [
        "# Escreva o seu código aqui\n",
        "CONT = 0\n",
        "SAIR = 0\n",
        "pares = 0\n",
        "\n",
        "while SAIR != 1:\n",
        "  print(\"Digite um número: \")\n",
        "  num = int(input())\n",
        "  CONT += 1\n",
        "  print(\"Digite 0 para continuar e 1 para sair: \")\n",
        "  SAIR = int(input())\n",
        "\n",
        "  if num % 2 == 0:\n",
        "    pares += 1\n",
        "print(f\"Dos números digitados, {pares}, eram pares. \")"
      ]
    },
    {
      "cell_type": "markdown",
      "metadata": {
        "id": "tnW4Znjqngh0"
      },
      "source": [
        "### Questão 3\n",
        "\n",
        "Na célula abaixo, escreva um programa usando o comando `while` para pedir a entrada de cinco notas. Ao final, calcule e mostre a média aritmética."
      ]
    },
    {
      "cell_type": "code",
      "execution_count": null,
      "metadata": {
        "collapsed": true,
        "id": "8OzUSN_7ngh0"
      },
      "outputs": [],
      "source": [
        "# Escreva o seu código aqui\n",
        "cont = 0\n",
        "notas = 0\n",
        "\n",
        "while cont != 5:\n",
        "  print(\"Digite uma nota: \")\n",
        "  num = float(input())\n",
        "  cont += 1\n",
        "  notas += num\n",
        "\n",
        "media = notas / 5\n",
        "print(f\"A média das notas é {media}\")"
      ]
    },
    {
      "cell_type": "markdown",
      "metadata": {
        "id": "wlbOhphEngh0"
      },
      "source": [
        "### Questão 4\n",
        "\n",
        "Na célula abaixo, modifique o programa acima para além de mostrar a média aritmética, mostrar também quantas notas foram menores do que 7.0.\n"
      ]
    },
    {
      "cell_type": "code",
      "execution_count": null,
      "metadata": {
        "collapsed": true,
        "id": "wfsrOfCZngh0"
      },
      "outputs": [],
      "source": [
        "# Escreva o seu código aqui\n",
        "cont = 0\n",
        "notas = 0\n",
        "M7 = 0\n",
        "\n",
        "while cont != 5:\n",
        "  print(\"Digite uma nota: \")\n",
        "  num = float(input())\n",
        "  cont += 1\n",
        "  notas += num\n",
        "\n",
        "  if num < 7:\n",
        "    M7 += 1\n",
        "\n",
        "media = notas / 5\n",
        "print(f\"A média das notas é {media}, e a quantidade de notas abaixo de 7.0 é {M7}\")"
      ]
    },
    {
      "cell_type": "markdown",
      "metadata": {
        "id": "aLklA3W8ngh0"
      },
      "source": [
        "### Questão 5\n",
        "\n",
        "Uma pessoa gostaria de fazer uma viagem que custa uma quantia **V** em reais e precisa de ajuda com o planejamento. A pessoa está disposta a fazer uma poupança iniciando em **I** reais e irá depositar mensalmente uma quantia **M** na poupança. Sabendo que a poupança rende 0,5% ao mês, na célula abaixo, faça um programa que receba esses dados do usuário e estime em quantos meses ele conseguiria o dinheiro para viajar.\n",
        "\n",
        "Veja alguns exemplos de saída desse programa:\n",
        "\n",
        "Exemplo 1:\n",
        "\n",
        "```\n",
        "-*-*-* Planejamento de Viagem -*-*-*\n",
        "\n",
        "Entre com o custo da viagem que você deseja fazer: 1000\n",
        "Entre com a quantia inicial da sua poupança: 1000\n",
        "Entre com a quantia mensal a ser depositada: 10\n",
        "Você conseguirá fazer a sua viagem em 0 meses e terá R$1000.00.\n",
        "```\n",
        "\n",
        "Exemplo 2:\n",
        "\n",
        "```\n",
        "-*-*-* Planejamento de Viagem -*-*-*\n",
        "\n",
        "Entre com o custo da viagem que você deseja fazer: 1000\n",
        "Entre com a quantia inicial da sua poupança: 500\n",
        "Entre com a quantia mensal a ser depositada: 50\n",
        "Você conseguirá fazer a sua viagem em 10 meses e terá R$1036.97.\n",
        "```"
      ]
    },
    {
      "cell_type": "code",
      "source": [
        "V = float(input(\"Entre com o custo da viagem que você deseja fazer: \"))\n",
        "I = float(input(\"Entre com a quantia inicial da sua poupança: \"))\n",
        "M = float(input(\"Entre com a quantia mensal a ser depositada: \"))\n",
        "\n",
        "# Inicialização de variáveis\n",
        "meses = 0\n",
        "saldo = I\n",
        "\n",
        "# Cálculo dos meses necessários\n",
        "while saldo < V:\n",
        "    saldo += saldo * 0.005  # 0.5% de rendimento mensal\n",
        "    saldo += M\n",
        "    meses += 1\n",
        "\n",
        "# Saída\n",
        "print(f\"Você conseguirá fazer a sua viagem em {meses} meses e terá R${saldo:.2f}.\")"
      ],
      "metadata": {
        "id": "fk7H2HJpI_fc"
      },
      "execution_count": null,
      "outputs": []
    },
    {
      "cell_type": "markdown",
      "metadata": {
        "id": "vL2pAQO1ngh0"
      },
      "source": [
        "### Questão 6: Jogo adivinhe o número (nível *café com leite*)\n",
        "\n",
        "No notebook sobre [o comando while](05-while.ipynb), nós implementamos o jogo de adivinhe o número (nível *beginner*). Naquela versão, o usuário podia tentar tantas vezes até acertar o número. Nessa versão, nós iremos facilitar ainda mais a vida do usuário.\n",
        "\n",
        "Após cada tentativa incorreta, mostre uma dica para o usuário. Por exemplo, `\"Tente um número maior!\"` (se o usuário digitou um número menor do que o escolhido) ou `\"Tente um número menor!\"` (se o usuário digitou um número maior do que o escolhido). Ao final diga em quantas tentativas o usuário acertou o número.\n",
        "\n",
        "Veja um exemplo de saída do programa:\n",
        "\n",
        "```\n",
        "Adivinhe o número!\n",
        "Digite um número entre 1 e 10: 5\n",
        "Número errado. Tente um número maior.\n",
        "Digite um número: 8\n",
        "Número errado. Tente um número menor.\n",
        "Digite um número: 7\n",
        "Parabéns! Você acertou em 3 tentativas.\n",
        "```"
      ]
    },
    {
      "cell_type": "code",
      "source": [
        "import random\n",
        "\n",
        "segredo = random.randint(1, 10)\n",
        "tentativas = 0\n",
        "\n",
        "while True:\n",
        "    palpite = int(input(\"Digite um número entre 1 e 10: \"))\n",
        "    tentativas += 1\n",
        "\n",
        "    if palpite < segredo:\n",
        "        print(\"Número errado. Tente um número maior.\")\n",
        "    elif palpite > segredo:\n",
        "        print(\"Número errado. Tente um número menor.\")\n",
        "    else:\n",
        "        print(f\"Parabéns! Você acertou em {tentativas} tentativas.\")"
      ],
      "metadata": {
        "id": "ql1-ZmH7_mmq"
      },
      "execution_count": null,
      "outputs": []
    },
    {
      "cell_type": "markdown",
      "metadata": {
        "id": "0yI3alEbngh1"
      },
      "source": [
        "### Questão 7: Jogo adivinhe o número (nível *hard*)\n",
        "\n",
        "Na célula abaixo, modifique o programa anterior para o nível *hard* que limita o número de tentativas em 3, mas ainda mostra as dicas.\n"
      ]
    },
    {
      "cell_type": "code",
      "execution_count": null,
      "metadata": {
        "collapsed": true,
        "id": "GZVZ6lm2ngh1",
        "colab": {
          "base_uri": "https://localhost:8080/"
        },
        "outputId": "0c105a5a-1145-40be-ff52-709b84217b1f"
      },
      "outputs": [
        {
          "output_type": "stream",
          "name": "stdout",
          "text": [
            "Digite um número entre 1 e 10: 6\n",
            "Número errado. Tente um número maior.\n",
            "Digite um número entre 1 e 10: 1\n",
            "Número errado. Tente um número maior.\n",
            "Digite um número entre 1 e 10: 2\n",
            "Suas tentativas acabaram! O número secreto era 7.\n"
          ]
        }
      ],
      "source": [
        "import random\n",
        "\n",
        "segredo = random.randint(1, 10)\n",
        "tentativas = 0\n",
        "\n",
        "while tentativas < 3:\n",
        "    palpite = int(input(\"Digite um número entre 1 e 10: \"))\n",
        "    tentativas += 1\n",
        "    if tentativas == 3:\n",
        "      print(f\"Suas tentativas acabaram! O número secreto era {segredo}.\")\n",
        "      break\n",
        "    if palpite < segredo:\n",
        "        print(\"Número errado. Tente um número maior.\")\n",
        "    elif palpite > segredo:\n",
        "        print(\"Número errado. Tente um número menor.\")\n",
        "    else:\n",
        "        print(f\"Parabéns! Você acertou em {tentativas} tentativas.\")\n",
        "        break"
      ]
    },
    {
      "cell_type": "markdown",
      "metadata": {
        "id": "vRsqIBXvngh1"
      },
      "source": [
        "### Questão 8\n",
        "Na célula abaixo, escreva um programa que pede para o usuário entrar com um número de nucleotídeos e depois peça um nucleotídeo (A, C, T ou G) de cada vez e mostre o complemento dele. Como no exercício da aula passada, o seu programa deve aceitar maiúsculas ou minúsculas. Se o usuário entrar com uma letra inválida, ignore a letra, mas a considere na contagem."
      ]
    },
    {
      "cell_type": "code",
      "execution_count": null,
      "metadata": {
        "collapsed": true,
        "id": "ZIP5v5eQngh1"
      },
      "outputs": [],
      "source": [
        "num_nucleotideos = int(input(\"Entre com o número de nucleotídeos: \"))\n",
        "\n",
        "complementos = {'A': 'T', 'T': 'A', 'C': 'G', 'G': 'C'}\n",
        "\n",
        "complemento_total = \"\"\n",
        "\n",
        "nucleotideos_inseridos = 0\n",
        "\n",
        "while nucleotideos_inseridos < num_nucleotideos:\n",
        "    nucleotideo = input(\"Entre com um nucleotídeo (A, C, T ou G): \").upper()\n",
        "    if nucleotideo in complementos:\n",
        "        complemento_total += complementos[nucleotideo]\n",
        "        nucleotideos_inseridos += 1\n",
        "    else:\n",
        "        print(\"Nucleotídeo inválido. Ignorando.\")\n",
        "\n",
        "print(\"O complemento total é:\", complemento_total)"
      ]
    },
    {
      "cell_type": "markdown",
      "metadata": {
        "id": "1WFDQPfAngh1"
      },
      "source": [
        "Ao terminar, você já pode ir para o próximo notebook: [Estrutura de Repetição for](09-for.ipynb)."
      ]
    }
  ],
  "metadata": {
    "kernelspec": {
      "display_name": "Python 3",
      "language": "python",
      "name": "python3"
    },
    "language_info": {
      "codemirror_mode": {
        "name": "ipython",
        "version": 3
      },
      "file_extension": ".py",
      "mimetype": "text/x-python",
      "name": "python",
      "nbconvert_exporter": "python",
      "pygments_lexer": "ipython3",
      "version": "3.5.2"
    },
    "colab": {
      "provenance": [],
      "include_colab_link": true
    }
  },
  "nbformat": 4,
  "nbformat_minor": 0
}