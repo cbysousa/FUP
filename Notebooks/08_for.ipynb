{
  "cells": [
    {
      "cell_type": "markdown",
      "metadata": {
        "id": "view-in-github",
        "colab_type": "text"
      },
      "source": [
        "<a href=\"https://colab.research.google.com/github/cbysousa/FUP/blob/main/Notebooks/08_for.ipynb\" target=\"_parent\"><img src=\"https://colab.research.google.com/assets/colab-badge.svg\" alt=\"Open In Colab\"/></a>"
      ]
    },
    {
      "cell_type": "markdown",
      "metadata": {
        "id": "igMEvlC9YZ7v"
      },
      "source": [
        "## O comando for\n",
        "\n",
        "O comando for é um tipo de estrutura de repetição em Python.\n",
        "\n",
        "Ele é muito útil para percorrer os elementos de uma lista ou de uma string.\n",
        "\n",
        "Uma lista pode ser definida em Python como sendo uma lista de valores separados por vírgula entre colchetes. Nós estudaremos listas mais a fundo posteriormente.\n",
        "\n",
        "```python\n",
        "lista1 = [1, 2, 3, 4, 5]\n",
        "```\n",
        "\n",
        "A lista acima possui 5 elementos. A ordem é importante, ou seja, o primeiro elemento da lista é 1, o segundo é 2, etc.\n",
        "\n",
        "Uma outra utilidade do comando for é quando precisamos repetir um trecho de código um número pré-definido de vezes.\n",
        "\n",
        "Normalmente, escrevemos o comando for da seguinte maneira:\n",
        "\n",
        "```python\n",
        "for variavel in minha_string_ou_lista :\n",
        "  # faça alguma coisa com variavel\n",
        "```  \n",
        "A variável que aparece logo após a palavra `for` vai receber o valor de cada elemento da minha_string_ou_lista por vez.\n",
        "\n",
        "Por exemplo, se quisermos mostrar os números de 1 a 5, um em cada linha, faríamos assim:"
      ]
    },
    {
      "cell_type": "code",
      "execution_count": null,
      "metadata": {
        "id": "I3fMhMM8YZ7y"
      },
      "outputs": [],
      "source": [
        "for i in [1, 2, 3, 4, 5]:\n",
        "    print(i)"
      ]
    },
    {
      "cell_type": "markdown",
      "metadata": {
        "id": "UAzl6a1MYZ7z"
      },
      "source": [
        "Se quiséssemos mostrar os números de trás pra frente, faríamos assim:"
      ]
    },
    {
      "cell_type": "code",
      "execution_count": null,
      "metadata": {
        "id": "xNFks2zbYZ7z"
      },
      "outputs": [],
      "source": [
        "for i in [5, 4, 3, 2, 1]:\n",
        "    print(i)"
      ]
    },
    {
      "cell_type": "markdown",
      "metadata": {
        "id": "_LlwOFJHYZ7z"
      },
      "source": [
        "E se quiséssemos mostrar os números de 1 a 100? Não seria muito prático ter que criar uma lista de 100 números manualmente. Para isso usamos o comando for em conjunto com a função range."
      ]
    },
    {
      "cell_type": "markdown",
      "metadata": {
        "id": "zSF2h3QFYZ7z"
      },
      "source": [
        "### A função range\n",
        "Usa-se a função range para criar uma lista de inteiros começão de **inicio**, até **fim** (mas não inclui **fim**) de **passo** em **passo**:\n",
        "\n",
        "```python\n",
        "range(inicio=0, fim, passo=1)\n",
        "```\n",
        "\n",
        "Onde:\n",
        "1. **inicio** e **passo** são opcionais.\n",
        "2. quando **inicio** é omitido, assume-se o valor ``0``\n",
        "3. qando **passo** é omitido, assume-se o valor ``1``\n",
        "4. os números gerados são menores que **fim**, para lista crescente\n",
        "5. os números gerados são mmaiores que **fim**, para lista decrescente\n",
        "\n",
        "Vejamos alguns exemplos:"
      ]
    },
    {
      "cell_type": "code",
      "execution_count": null,
      "metadata": {
        "id": "S1EMRAjtYZ70"
      },
      "outputs": [],
      "source": [
        "# só o fim foi passado para range (inicio=0)\n",
        "print(list(range(4)))"
      ]
    },
    {
      "cell_type": "markdown",
      "metadata": {
        "id": "WBLps9UUYZ70"
      },
      "source": [
        "> **Observação: Nós usamos a função `list()` apenas para mostrar a lista na tela. O resultado da função range já se comporta como uma lista.**"
      ]
    },
    {
      "cell_type": "code",
      "execution_count": null,
      "metadata": {
        "id": "-Kp7RgXIYZ70"
      },
      "outputs": [],
      "source": [
        "# inicio e fim foram passados\n",
        "print(list(range(1,5)))"
      ]
    },
    {
      "cell_type": "code",
      "execution_count": null,
      "metadata": {
        "id": "kvNxG-tLYZ70"
      },
      "outputs": [],
      "source": [
        "# lista de 1 a 9, de 2 em 2\n",
        "print(list(range(1, 10, 2)))"
      ]
    },
    {
      "cell_type": "code",
      "execution_count": null,
      "metadata": {
        "id": "1gkXie68YZ71"
      },
      "outputs": [],
      "source": [
        "# lista de 10 a 2, de 2 em 2\n",
        "print(list(range(10, 1, -2)))"
      ]
    },
    {
      "cell_type": "markdown",
      "metadata": {
        "id": "9Gs0r45zYZ71"
      },
      "source": [
        "### O comando for com a função range\n",
        "\n",
        "Pronto agora podemos mostrar os números de 1 a 100 usando a função range:"
      ]
    },
    {
      "cell_type": "code",
      "execution_count": null,
      "metadata": {
        "id": "RQkZEMbIYZ71"
      },
      "outputs": [],
      "source": [
        "for i in range(1, 101):\n",
        "    print(i)"
      ]
    },
    {
      "cell_type": "markdown",
      "metadata": {
        "id": "nvTEIBQmYZ71"
      },
      "source": [
        "## strings como listas\n",
        "\n",
        "Um fato interessante sobre strings é que elas se comportam como se fossem listas de caracteres. Assim podemos percorrer todos os caracteres de uma string usando o for:"
      ]
    },
    {
      "cell_type": "code",
      "execution_count": null,
      "metadata": {
        "id": "a3s-EecEYZ71"
      },
      "outputs": [],
      "source": [
        "frase = \"O comando for\"\n",
        "for letra in frase:\n",
        "    print(letra)"
      ]
    },
    {
      "cell_type": "markdown",
      "metadata": {
        "id": "w9-ZXO2ZYZ71"
      },
      "source": [
        "Note que todos os caracteres são mostrados, inclusive os espaços em branco."
      ]
    },
    {
      "cell_type": "markdown",
      "metadata": {
        "id": "frejs_XvYZ71"
      },
      "source": [
        "### Exercícios\n",
        "\n",
        "Na célula abaixo, usando o comando `for`, escreva um programa que percorre os números de 1 a 100, mas só mostre os múltiplos de 5."
      ]
    },
    {
      "cell_type": "code",
      "execution_count": null,
      "metadata": {
        "collapsed": true,
        "id": "lpI87i86YZ71"
      },
      "outputs": [],
      "source": [
        "# escreva aqui o seu for\n",
        "for i in range (1,100):\n",
        "  if i % 5 == 0:\n",
        "    print(i)"
      ]
    },
    {
      "cell_type": "code",
      "source": [
        "for i in range (1,101):\n",
        "  if i % 5 == 0:\n",
        "    print(i)"
      ],
      "metadata": {
        "id": "yn1QKgEhicNr"
      },
      "execution_count": null,
      "outputs": []
    },
    {
      "cell_type": "markdown",
      "metadata": {
        "id": "snUmiDI5YZ71"
      },
      "source": [
        "Na célula abaixo, crie um laço com o comando `for` que mostra o quadrado dos números de 1 a 10, cada qual na sua linha."
      ]
    },
    {
      "cell_type": "code",
      "execution_count": null,
      "metadata": {
        "collapsed": true,
        "id": "XR_M9D8CYZ72"
      },
      "outputs": [],
      "source": [
        "# escreva aqui o seu for\n",
        "for i in range (1,10):\n",
        "  print(i ** 2)"
      ]
    },
    {
      "cell_type": "code",
      "source": [
        "for i in range (1,11):\n",
        "  print(i ** 2)"
      ],
      "metadata": {
        "id": "1sZd1vIwii_R"
      },
      "execution_count": null,
      "outputs": []
    },
    {
      "cell_type": "markdown",
      "metadata": {
        "id": "bVX-d6HCYZ72"
      },
      "source": [
        "Na célula abaixo, use um for para percorrer os elementos da string em `frase`, mas só mostre a letra o (maiúscula ou minúscula)."
      ]
    },
    {
      "cell_type": "code",
      "execution_count": null,
      "metadata": {
        "collapsed": true,
        "id": "JGCAJNOrYZ72"
      },
      "outputs": [],
      "source": [
        "frase = \"O comando for\"\n",
        "# escreva aqui o seu for\n",
        "for letra in (frase):\n",
        "  print(letra)"
      ]
    },
    {
      "cell_type": "markdown",
      "metadata": {
        "id": "r_Rxfdm3YZ72"
      },
      "source": [
        "Ao terminar, você já pode ir para o próximo notebook: [Exercícios sobre o comando for](10-for-exercicios-parte1.ipynb)."
      ]
    },
    {
      "cell_type": "code",
      "source": [
        "for i in range(1,9):\n",
        "  if i % 2 == 0:\n",
        "    print (i)"
      ],
      "metadata": {
        "id": "L2lz0AgPYMdJ"
      },
      "execution_count": null,
      "outputs": []
    },
    {
      "cell_type": "code",
      "source": [
        "cont = 0\n",
        "for i in range (1,6):\n",
        "  num = int(input(\"Digite um número: \"))\n",
        "  if num > 5:\n",
        "    cont += 1\n",
        "\n",
        "print(f\"A quantidade de números maior do que 5 foi {cont}\")"
      ],
      "metadata": {
        "id": "s5X5iayIZar_"
      },
      "execution_count": null,
      "outputs": []
    },
    {
      "cell_type": "code",
      "source": [
        "x = 1\n",
        "y = 5\n",
        "\n",
        "while x < y:\n",
        "  x += 2\n",
        "  y += 1\n",
        "  print(x, y)"
      ],
      "metadata": {
        "id": "J6bjMBoha6b3"
      },
      "execution_count": null,
      "outputs": []
    },
    {
      "cell_type": "code",
      "source": [
        "for i in range (1,100):\n",
        "  print (i)"
      ],
      "metadata": {
        "id": "rzuJ3zhkgEj9"
      },
      "execution_count": null,
      "outputs": []
    },
    {
      "cell_type": "code",
      "source": [
        "for i in range (1,10,2):\n",
        "  print(i)"
      ],
      "metadata": {
        "id": "6h7KjrMAgS58"
      },
      "execution_count": null,
      "outputs": []
    },
    {
      "cell_type": "code",
      "source": [
        "for i in range (10, 1, -2):\n",
        "  print(i)"
      ],
      "metadata": {
        "id": "1lQ8pZ2UgnNU"
      },
      "execution_count": null,
      "outputs": []
    },
    {
      "cell_type": "code",
      "source": [
        "for i in range (1,5):\n",
        "  print(i)"
      ],
      "metadata": {
        "id": "_FrDenhhhKeV"
      },
      "execution_count": null,
      "outputs": []
    },
    {
      "cell_type": "code",
      "source": [
        "for i in range (1,11):\n",
        "  print(i)"
      ],
      "metadata": {
        "id": "fKVuBTaxhQpT"
      },
      "execution_count": null,
      "outputs": []
    },
    {
      "cell_type": "code",
      "source": [
        "for i in range (10,4,-1):\n",
        "  print(i)"
      ],
      "metadata": {
        "id": "YE3gUFiehWwd"
      },
      "execution_count": null,
      "outputs": []
    },
    {
      "cell_type": "code",
      "source": [
        "for i in range (15, 0, -2):\n",
        "  print(i)"
      ],
      "metadata": {
        "id": "E7xxp9CchgEw"
      },
      "execution_count": null,
      "outputs": []
    }
  ],
  "metadata": {
    "kernelspec": {
      "display_name": "Python 3",
      "language": "python",
      "name": "python3"
    },
    "language_info": {
      "codemirror_mode": {
        "name": "ipython",
        "version": 3
      },
      "file_extension": ".py",
      "mimetype": "text/x-python",
      "name": "python",
      "nbconvert_exporter": "python",
      "pygments_lexer": "ipython3",
      "version": "3.5.2"
    },
    "colab": {
      "provenance": [],
      "include_colab_link": true
    }
  },
  "nbformat": 4,
  "nbformat_minor": 0
}